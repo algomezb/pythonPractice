{
 "cells": [
  {
   "cell_type": "markdown",
   "metadata": {},
   "source": [
    "## Interpreter"
   ]
  },
  {
   "cell_type": "markdown",
   "metadata": {},
   "source": [
    "Python is an interpreted language which can be used in two ways:\n",
    "\n",
    "\"Interactively\": when you use it as an “advanced calculator” executing one command at a time. To start Python in this mode, execute python on the command line:"
   ]
  },
  {
   "cell_type": "code",
   "execution_count": 8,
   "metadata": {},
   "outputs": [
    {
     "data": {
      "text/plain": [
       "4"
      ]
     },
     "execution_count": 8,
     "metadata": {},
     "output_type": "execute_result"
    }
   ],
   "source": [
    "2 + 2"
   ]
  },
  {
   "cell_type": "code",
   "execution_count": 9,
   "metadata": {},
   "outputs": [
    {
     "name": "stdout",
     "output_type": "stream",
     "text": [
      "Hello World\n"
     ]
    }
   ],
   "source": [
    "print(\"Hello World\")"
   ]
  },
  {
   "cell_type": "markdown",
   "metadata": {},
   "source": [
    "\"Scripting\" Mode: executing a series of “commands” saved in text file, usually with a .py extension after the name of your file:"
   ]
  },
  {
   "cell_type": "code",
   "execution_count": 10,
   "metadata": {},
   "outputs": [
    {
     "ename": "SyntaxError",
     "evalue": "invalid syntax (1858525316.py, line 1)",
     "output_type": "error",
     "traceback": [
      "\u001b[0;36m  Cell \u001b[0;32mIn[10], line 1\u001b[0;36m\u001b[0m\n\u001b[0;31m    python my_script.py\u001b[0m\n\u001b[0m           ^\u001b[0m\n\u001b[0;31mSyntaxError\u001b[0m\u001b[0;31m:\u001b[0m invalid syntax\n"
     ]
    }
   ],
   "source": [
    "python my_script.py"
   ]
  },
  {
   "cell_type": "markdown",
   "metadata": {},
   "source": [
    "## Introduction to variables in Python"
   ]
  },
  {
   "cell_type": "markdown",
   "metadata": {},
   "source": [
    "### Assigning values to variables\n",
    "One of the most basic things we can do in Python is assign values to variables:"
   ]
  },
  {
   "cell_type": "code",
   "execution_count": 11,
   "metadata": {},
   "outputs": [],
   "source": [
    "text = \"Data Carpentry\"  # An example of assigning a value to a new text variable,\n",
    "                         # also known as a string data type in Python\n",
    "number = 42              # An example of assigning a numeric value, or an integer data type\n",
    "pi_value = 3.1415        # An example of assigning a floating point value (the float data type)"
   ]
  },
  {
   "cell_type": "markdown",
   "metadata": {},
   "source": [
    "Here we’ve assigned data to the variables `text`, `number` and `pi_value`, using the assignment operator `=`. To review the value of a variable, we can type the name of the variable into the interpreter and press `Return`:"
   ]
  },
  {
   "cell_type": "code",
   "execution_count": 12,
   "metadata": {},
   "outputs": [
    {
     "data": {
      "text/plain": [
       "'Data Carpentry'"
      ]
     },
     "execution_count": 12,
     "metadata": {},
     "output_type": "execute_result"
    }
   ],
   "source": [
    "text"
   ]
  },
  {
   "cell_type": "markdown",
   "metadata": {},
   "source": [
    "Everything in Python has a type. To get the type of something, we can pass it to the built-in function type:"
   ]
  },
  {
   "cell_type": "code",
   "execution_count": 13,
   "metadata": {},
   "outputs": [
    {
     "data": {
      "text/plain": [
       "str"
      ]
     },
     "execution_count": 13,
     "metadata": {},
     "output_type": "execute_result"
    }
   ],
   "source": [
    "# Type of the text object\n",
    "type(text)"
   ]
  },
  {
   "cell_type": "code",
   "execution_count": 14,
   "metadata": {},
   "outputs": [
    {
     "data": {
      "text/plain": [
       "int"
      ]
     },
     "execution_count": 14,
     "metadata": {},
     "output_type": "execute_result"
    }
   ],
   "source": [
    "# Type of the number object\n",
    "type(number)"
   ]
  },
  {
   "cell_type": "code",
   "execution_count": null,
   "metadata": {},
   "outputs": [],
   "source": [
    "# Type of the pi_value object\n",
    "type(pi_value)"
   ]
  },
  {
   "cell_type": "markdown",
   "metadata": {},
   "source": [
    "The variable `text` is of type `str`, short for “string”. Strings hold sequences of characters, which can be letters, numbers, punctuation or more exotic forms of text (even emoji!).\n",
    "\n",
    "We can also see the value of something using another built-in function, `print`:"
   ]
  },
  {
   "cell_type": "code",
   "execution_count": 15,
   "metadata": {},
   "outputs": [
    {
     "name": "stdout",
     "output_type": "stream",
     "text": [
      "Data Carpentry\n"
     ]
    }
   ],
   "source": [
    "print(text)"
   ]
  },
  {
   "cell_type": "code",
   "execution_count": 16,
   "metadata": {},
   "outputs": [
    {
     "name": "stdout",
     "output_type": "stream",
     "text": [
      "42\n"
     ]
    }
   ],
   "source": [
    "print(number)"
   ]
  },
  {
   "cell_type": "markdown",
   "metadata": {},
   "source": [
    "This may seem redundant, but in fact it’s the only way to display output in a script."
   ]
  },
  {
   "cell_type": "markdown",
   "metadata": {},
   "source": [
    "Tip: `print` and `type` are built-in functions in Python."
   ]
  },
  {
   "cell_type": "markdown",
   "metadata": {},
   "source": [
    "### Operators\n",
    "We can perform mathematical calculations in Python using the basic operators +, -, /, *, %:"
   ]
  },
  {
   "cell_type": "code",
   "execution_count": 17,
   "metadata": {},
   "outputs": [
    {
     "data": {
      "text/plain": [
       "4"
      ]
     },
     "execution_count": 17,
     "metadata": {},
     "output_type": "execute_result"
    }
   ],
   "source": [
    "2 + 2  # Addition"
   ]
  },
  {
   "cell_type": "code",
   "execution_count": 18,
   "metadata": {},
   "outputs": [
    {
     "data": {
      "text/plain": [
       "42"
      ]
     },
     "execution_count": 18,
     "metadata": {},
     "output_type": "execute_result"
    }
   ],
   "source": [
    "6 * 7  # Multiplication"
   ]
  },
  {
   "cell_type": "code",
   "execution_count": 19,
   "metadata": {},
   "outputs": [
    {
     "data": {
      "text/plain": [
       "65536"
      ]
     },
     "execution_count": 19,
     "metadata": {},
     "output_type": "execute_result"
    }
   ],
   "source": [
    "2 ** 16  # Power"
   ]
  },
  {
   "cell_type": "code",
   "execution_count": 20,
   "metadata": {},
   "outputs": [
    {
     "data": {
      "text/plain": [
       "3"
      ]
     },
     "execution_count": 20,
     "metadata": {},
     "output_type": "execute_result"
    }
   ],
   "source": [
    "13 % 5  # Modulo"
   ]
  },
  {
   "cell_type": "markdown",
   "metadata": {},
   "source": [
    "We can also use comparison and logic operators: <, >, ==, !=, <=, >= and statements of identity such as and, or, not. The data type returned by this is called a boolean."
   ]
  },
  {
   "cell_type": "code",
   "execution_count": 21,
   "metadata": {},
   "outputs": [
    {
     "data": {
      "text/plain": [
       "False"
      ]
     },
     "execution_count": 21,
     "metadata": {},
     "output_type": "execute_result"
    }
   ],
   "source": [
    "3 > 4"
   ]
  },
  {
   "cell_type": "code",
   "execution_count": 22,
   "metadata": {},
   "outputs": [
    {
     "data": {
      "text/plain": [
       "True"
      ]
     },
     "execution_count": 22,
     "metadata": {},
     "output_type": "execute_result"
    }
   ],
   "source": [
    "True and True"
   ]
  },
  {
   "cell_type": "code",
   "execution_count": 23,
   "metadata": {},
   "outputs": [
    {
     "data": {
      "text/plain": [
       "True"
      ]
     },
     "execution_count": 23,
     "metadata": {},
     "output_type": "execute_result"
    }
   ],
   "source": [
    "True or False"
   ]
  },
  {
   "cell_type": "code",
   "execution_count": 24,
   "metadata": {},
   "outputs": [
    {
     "data": {
      "text/plain": [
       "False"
      ]
     },
     "execution_count": 24,
     "metadata": {},
     "output_type": "execute_result"
    }
   ],
   "source": [
    "True and False"
   ]
  },
  {
   "cell_type": "markdown",
   "metadata": {},
   "source": [
    "------------------------------------------------------\n",
    "# SLIDES\n",
    "------------------------------------------------------"
   ]
  },
  {
   "cell_type": "markdown",
   "metadata": {},
   "source": [
    "# Getting help"
   ]
  },
  {
   "cell_type": "code",
   "execution_count": 25,
   "metadata": {},
   "outputs": [
    {
     "name": "stdout",
     "output_type": "stream",
     "text": [
      "Help on int object:\n",
      "\n",
      "class int(object)\n",
      " |  int([x]) -> integer\n",
      " |  int(x, base=10) -> integer\n",
      " |  \n",
      " |  Convert a number or string to an integer, or return 0 if no arguments\n",
      " |  are given.  If x is a number, return x.__int__().  For floating point\n",
      " |  numbers, this truncates towards zero.\n",
      " |  \n",
      " |  If x is not a number or if base is given, then x must be a string,\n",
      " |  bytes, or bytearray instance representing an integer literal in the\n",
      " |  given base.  The literal can be preceded by '+' or '-' and be surrounded\n",
      " |  by whitespace.  The base defaults to 10.  Valid bases are 0 and 2-36.\n",
      " |  Base 0 means to interpret the base from the string as an integer literal.\n",
      " |  >>> int('0b100', base=0)\n",
      " |  4\n",
      " |  \n",
      " |  Built-in subclasses:\n",
      " |      bool\n",
      " |  \n",
      " |  Methods defined here:\n",
      " |  \n",
      " |  __abs__(self, /)\n",
      " |      abs(self)\n",
      " |  \n",
      " |  __add__(self, value, /)\n",
      " |      Return self+value.\n",
      " |  \n",
      " |  __and__(self, value, /)\n",
      " |      Return self&value.\n",
      " |  \n",
      " |  __bool__(self, /)\n",
      " |      True if self else False\n",
      " |  \n",
      " |  __ceil__(...)\n",
      " |      Ceiling of an Integral returns itself.\n",
      " |  \n",
      " |  __divmod__(self, value, /)\n",
      " |      Return divmod(self, value).\n",
      " |  \n",
      " |  __eq__(self, value, /)\n",
      " |      Return self==value.\n",
      " |  \n",
      " |  __float__(self, /)\n",
      " |      float(self)\n",
      " |  \n",
      " |  __floor__(...)\n",
      " |      Flooring an Integral returns itself.\n",
      " |  \n",
      " |  __floordiv__(self, value, /)\n",
      " |      Return self//value.\n",
      " |  \n",
      " |  __format__(self, format_spec, /)\n",
      " |      Default object formatter.\n",
      " |  \n",
      " |  __ge__(self, value, /)\n",
      " |      Return self>=value.\n",
      " |  \n",
      " |  __getattribute__(self, name, /)\n",
      " |      Return getattr(self, name).\n",
      " |  \n",
      " |  __getnewargs__(self, /)\n",
      " |  \n",
      " |  __gt__(self, value, /)\n",
      " |      Return self>value.\n",
      " |  \n",
      " |  __hash__(self, /)\n",
      " |      Return hash(self).\n",
      " |  \n",
      " |  __index__(self, /)\n",
      " |      Return self converted to an integer, if self is suitable for use as an index into a list.\n",
      " |  \n",
      " |  __int__(self, /)\n",
      " |      int(self)\n",
      " |  \n",
      " |  __invert__(self, /)\n",
      " |      ~self\n",
      " |  \n",
      " |  __le__(self, value, /)\n",
      " |      Return self<=value.\n",
      " |  \n",
      " |  __lshift__(self, value, /)\n",
      " |      Return self<<value.\n",
      " |  \n",
      " |  __lt__(self, value, /)\n",
      " |      Return self<value.\n",
      " |  \n",
      " |  __mod__(self, value, /)\n",
      " |      Return self%value.\n",
      " |  \n",
      " |  __mul__(self, value, /)\n",
      " |      Return self*value.\n",
      " |  \n",
      " |  __ne__(self, value, /)\n",
      " |      Return self!=value.\n",
      " |  \n",
      " |  __neg__(self, /)\n",
      " |      -self\n",
      " |  \n",
      " |  __or__(self, value, /)\n",
      " |      Return self|value.\n",
      " |  \n",
      " |  __pos__(self, /)\n",
      " |      +self\n",
      " |  \n",
      " |  __pow__(self, value, mod=None, /)\n",
      " |      Return pow(self, value, mod).\n",
      " |  \n",
      " |  __radd__(self, value, /)\n",
      " |      Return value+self.\n",
      " |  \n",
      " |  __rand__(self, value, /)\n",
      " |      Return value&self.\n",
      " |  \n",
      " |  __rdivmod__(self, value, /)\n",
      " |      Return divmod(value, self).\n",
      " |  \n",
      " |  __repr__(self, /)\n",
      " |      Return repr(self).\n",
      " |  \n",
      " |  __rfloordiv__(self, value, /)\n",
      " |      Return value//self.\n",
      " |  \n",
      " |  __rlshift__(self, value, /)\n",
      " |      Return value<<self.\n",
      " |  \n",
      " |  __rmod__(self, value, /)\n",
      " |      Return value%self.\n",
      " |  \n",
      " |  __rmul__(self, value, /)\n",
      " |      Return value*self.\n",
      " |  \n",
      " |  __ror__(self, value, /)\n",
      " |      Return value|self.\n",
      " |  \n",
      " |  __round__(...)\n",
      " |      Rounding an Integral returns itself.\n",
      " |      \n",
      " |      Rounding with an ndigits argument also returns an integer.\n",
      " |  \n",
      " |  __rpow__(self, value, mod=None, /)\n",
      " |      Return pow(value, self, mod).\n",
      " |  \n",
      " |  __rrshift__(self, value, /)\n",
      " |      Return value>>self.\n",
      " |  \n",
      " |  __rshift__(self, value, /)\n",
      " |      Return self>>value.\n",
      " |  \n",
      " |  __rsub__(self, value, /)\n",
      " |      Return value-self.\n",
      " |  \n",
      " |  __rtruediv__(self, value, /)\n",
      " |      Return value/self.\n",
      " |  \n",
      " |  __rxor__(self, value, /)\n",
      " |      Return value^self.\n",
      " |  \n",
      " |  __sizeof__(self, /)\n",
      " |      Returns size in memory, in bytes.\n",
      " |  \n",
      " |  __sub__(self, value, /)\n",
      " |      Return self-value.\n",
      " |  \n",
      " |  __truediv__(self, value, /)\n",
      " |      Return self/value.\n",
      " |  \n",
      " |  __trunc__(...)\n",
      " |      Truncating an Integral returns itself.\n",
      " |  \n",
      " |  __xor__(self, value, /)\n",
      " |      Return self^value.\n",
      " |  \n",
      " |  as_integer_ratio(self, /)\n",
      " |      Return integer ratio.\n",
      " |      \n",
      " |      Return a pair of integers, whose ratio is exactly equal to the original int\n",
      " |      and with a positive denominator.\n",
      " |      \n",
      " |      >>> (10).as_integer_ratio()\n",
      " |      (10, 1)\n",
      " |      >>> (-10).as_integer_ratio()\n",
      " |      (-10, 1)\n",
      " |      >>> (0).as_integer_ratio()\n",
      " |      (0, 1)\n",
      " |  \n",
      " |  bit_count(self, /)\n",
      " |      Number of ones in the binary representation of the absolute value of self.\n",
      " |      \n",
      " |      Also known as the population count.\n",
      " |      \n",
      " |      >>> bin(13)\n",
      " |      '0b1101'\n",
      " |      >>> (13).bit_count()\n",
      " |      3\n",
      " |  \n",
      " |  bit_length(self, /)\n",
      " |      Number of bits necessary to represent self in binary.\n",
      " |      \n",
      " |      >>> bin(37)\n",
      " |      '0b100101'\n",
      " |      >>> (37).bit_length()\n",
      " |      6\n",
      " |  \n",
      " |  conjugate(...)\n",
      " |      Returns self, the complex conjugate of any int.\n",
      " |  \n",
      " |  to_bytes(self, /, length, byteorder, *, signed=False)\n",
      " |      Return an array of bytes representing an integer.\n",
      " |      \n",
      " |      length\n",
      " |        Length of bytes object to use.  An OverflowError is raised if the\n",
      " |        integer is not representable with the given number of bytes.\n",
      " |      byteorder\n",
      " |        The byte order used to represent the integer.  If byteorder is 'big',\n",
      " |        the most significant byte is at the beginning of the byte array.  If\n",
      " |        byteorder is 'little', the most significant byte is at the end of the\n",
      " |        byte array.  To request the native byte order of the host system, use\n",
      " |        `sys.byteorder' as the byte order value.\n",
      " |      signed\n",
      " |        Determines whether two's complement is used to represent the integer.\n",
      " |        If signed is False and a negative integer is given, an OverflowError\n",
      " |        is raised.\n",
      " |  \n",
      " |  ----------------------------------------------------------------------\n",
      " |  Class methods defined here:\n",
      " |  \n",
      " |  from_bytes(bytes, byteorder, *, signed=False) from builtins.type\n",
      " |      Return the integer represented by the given array of bytes.\n",
      " |      \n",
      " |      bytes\n",
      " |        Holds the array of bytes to convert.  The argument must either\n",
      " |        support the buffer protocol or be an iterable object producing bytes.\n",
      " |        Bytes and bytearray are examples of built-in objects that support the\n",
      " |        buffer protocol.\n",
      " |      byteorder\n",
      " |        The byte order used to represent the integer.  If byteorder is 'big',\n",
      " |        the most significant byte is at the beginning of the byte array.  If\n",
      " |        byteorder is 'little', the most significant byte is at the end of the\n",
      " |        byte array.  To request the native byte order of the host system, use\n",
      " |        `sys.byteorder' as the byte order value.\n",
      " |      signed\n",
      " |        Indicates whether two's complement is used to represent the integer.\n",
      " |  \n",
      " |  ----------------------------------------------------------------------\n",
      " |  Static methods defined here:\n",
      " |  \n",
      " |  __new__(*args, **kwargs) from builtins.type\n",
      " |      Create and return a new object.  See help(type) for accurate signature.\n",
      " |  \n",
      " |  ----------------------------------------------------------------------\n",
      " |  Data descriptors defined here:\n",
      " |  \n",
      " |  denominator\n",
      " |      the denominator of a rational number in lowest terms\n",
      " |  \n",
      " |  imag\n",
      " |      the imaginary part of a complex number\n",
      " |  \n",
      " |  numerator\n",
      " |      the numerator of a rational number in lowest terms\n",
      " |  \n",
      " |  real\n",
      " |      the real part of a complex number\n",
      "\n"
     ]
    }
   ],
   "source": [
    "x = 20\n",
    "help(x)"
   ]
  },
  {
   "cell_type": "code",
   "execution_count": 26,
   "metadata": {},
   "outputs": [
    {
     "data": {
      "text/plain": [
       "['__add__',\n",
       " '__class__',\n",
       " '__contains__',\n",
       " '__delattr__',\n",
       " '__dir__',\n",
       " '__doc__',\n",
       " '__eq__',\n",
       " '__format__',\n",
       " '__ge__',\n",
       " '__getattribute__',\n",
       " '__getitem__',\n",
       " '__getnewargs__',\n",
       " '__gt__',\n",
       " '__hash__',\n",
       " '__init__',\n",
       " '__init_subclass__',\n",
       " '__iter__',\n",
       " '__le__',\n",
       " '__len__',\n",
       " '__lt__',\n",
       " '__mod__',\n",
       " '__mul__',\n",
       " '__ne__',\n",
       " '__new__',\n",
       " '__reduce__',\n",
       " '__reduce_ex__',\n",
       " '__repr__',\n",
       " '__rmod__',\n",
       " '__rmul__',\n",
       " '__setattr__',\n",
       " '__sizeof__',\n",
       " '__str__',\n",
       " '__subclasshook__',\n",
       " 'capitalize',\n",
       " 'casefold',\n",
       " 'center',\n",
       " 'count',\n",
       " 'encode',\n",
       " 'endswith',\n",
       " 'expandtabs',\n",
       " 'find',\n",
       " 'format',\n",
       " 'format_map',\n",
       " 'index',\n",
       " 'isalnum',\n",
       " 'isalpha',\n",
       " 'isascii',\n",
       " 'isdecimal',\n",
       " 'isdigit',\n",
       " 'isidentifier',\n",
       " 'islower',\n",
       " 'isnumeric',\n",
       " 'isprintable',\n",
       " 'isspace',\n",
       " 'istitle',\n",
       " 'isupper',\n",
       " 'join',\n",
       " 'ljust',\n",
       " 'lower',\n",
       " 'lstrip',\n",
       " 'maketrans',\n",
       " 'partition',\n",
       " 'removeprefix',\n",
       " 'removesuffix',\n",
       " 'replace',\n",
       " 'rfind',\n",
       " 'rindex',\n",
       " 'rjust',\n",
       " 'rpartition',\n",
       " 'rsplit',\n",
       " 'rstrip',\n",
       " 'split',\n",
       " 'splitlines',\n",
       " 'startswith',\n",
       " 'strip',\n",
       " 'swapcase',\n",
       " 'title',\n",
       " 'translate',\n",
       " 'upper',\n",
       " 'zfill']"
      ]
     },
     "execution_count": 26,
     "metadata": {},
     "output_type": "execute_result"
    }
   ],
   "source": [
    "# Display all of the available methods (functions) that are built into a data object\n",
    "dir(text)"
   ]
  },
  {
   "cell_type": "markdown",
   "metadata": {},
   "source": [
    "------------------------------------------------------\n",
    "# SLIDES\n",
    "------------------------------------------------------"
   ]
  },
  {
   "cell_type": "markdown",
   "metadata": {},
   "source": [
    "## Sequences: Lists and Tuples"
   ]
  },
  {
   "cell_type": "markdown",
   "metadata": {},
   "source": [
    "### Lists\n",
    "Lists are a common data structure to hold an ordered sequence of elements. Each element can be accessed by an index. Note that Python indexes start with 0 instead of 1:"
   ]
  },
  {
   "cell_type": "code",
   "execution_count": 27,
   "metadata": {},
   "outputs": [
    {
     "data": {
      "text/plain": [
       "1"
      ]
     },
     "execution_count": 27,
     "metadata": {},
     "output_type": "execute_result"
    }
   ],
   "source": [
    "numbers = [1, 2, 3]\n",
    "numbers[0]"
   ]
  },
  {
   "cell_type": "code",
   "execution_count": 28,
   "metadata": {},
   "outputs": [
    {
     "name": "stdout",
     "output_type": "stream",
     "text": [
      "1\n",
      "2\n",
      "3\n"
     ]
    }
   ],
   "source": [
    "# Indentation is very important in Python.\n",
    "for num in numbers:\n",
    "    print(num)"
   ]
  },
  {
   "cell_type": "markdown",
   "metadata": {},
   "source": [
    "To add elements to the end of a list, we can use the append method."
   ]
  },
  {
   "cell_type": "code",
   "execution_count": 29,
   "metadata": {},
   "outputs": [
    {
     "name": "stdout",
     "output_type": "stream",
     "text": [
      "[1, 2, 3, 4]\n"
     ]
    }
   ],
   "source": [
    "numbers.append(4)\n",
    "print(numbers)"
   ]
  },
  {
   "cell_type": "markdown",
   "metadata": {},
   "source": [
    "To find out what methods are available for an object, we can use the built-in help command:"
   ]
  },
  {
   "cell_type": "code",
   "execution_count": 30,
   "metadata": {},
   "outputs": [
    {
     "name": "stdout",
     "output_type": "stream",
     "text": [
      "Help on list object:\n",
      "\n",
      "class list(object)\n",
      " |  list(iterable=(), /)\n",
      " |  \n",
      " |  Built-in mutable sequence.\n",
      " |  \n",
      " |  If no argument is given, the constructor creates a new empty list.\n",
      " |  The argument must be an iterable if specified.\n",
      " |  \n",
      " |  Methods defined here:\n",
      " |  \n",
      " |  __add__(self, value, /)\n",
      " |      Return self+value.\n",
      " |  \n",
      " |  __contains__(self, key, /)\n",
      " |      Return key in self.\n",
      " |  \n",
      " |  __delitem__(self, key, /)\n",
      " |      Delete self[key].\n",
      " |  \n",
      " |  __eq__(self, value, /)\n",
      " |      Return self==value.\n",
      " |  \n",
      " |  __ge__(self, value, /)\n",
      " |      Return self>=value.\n",
      " |  \n",
      " |  __getattribute__(self, name, /)\n",
      " |      Return getattr(self, name).\n",
      " |  \n",
      " |  __getitem__(...)\n",
      " |      x.__getitem__(y) <==> x[y]\n",
      " |  \n",
      " |  __gt__(self, value, /)\n",
      " |      Return self>value.\n",
      " |  \n",
      " |  __iadd__(self, value, /)\n",
      " |      Implement self+=value.\n",
      " |  \n",
      " |  __imul__(self, value, /)\n",
      " |      Implement self*=value.\n",
      " |  \n",
      " |  __init__(self, /, *args, **kwargs)\n",
      " |      Initialize self.  See help(type(self)) for accurate signature.\n",
      " |  \n",
      " |  __iter__(self, /)\n",
      " |      Implement iter(self).\n",
      " |  \n",
      " |  __le__(self, value, /)\n",
      " |      Return self<=value.\n",
      " |  \n",
      " |  __len__(self, /)\n",
      " |      Return len(self).\n",
      " |  \n",
      " |  __lt__(self, value, /)\n",
      " |      Return self<value.\n",
      " |  \n",
      " |  __mul__(self, value, /)\n",
      " |      Return self*value.\n",
      " |  \n",
      " |  __ne__(self, value, /)\n",
      " |      Return self!=value.\n",
      " |  \n",
      " |  __repr__(self, /)\n",
      " |      Return repr(self).\n",
      " |  \n",
      " |  __reversed__(self, /)\n",
      " |      Return a reverse iterator over the list.\n",
      " |  \n",
      " |  __rmul__(self, value, /)\n",
      " |      Return value*self.\n",
      " |  \n",
      " |  __setitem__(self, key, value, /)\n",
      " |      Set self[key] to value.\n",
      " |  \n",
      " |  __sizeof__(self, /)\n",
      " |      Return the size of the list in memory, in bytes.\n",
      " |  \n",
      " |  append(self, object, /)\n",
      " |      Append object to the end of the list.\n",
      " |  \n",
      " |  clear(self, /)\n",
      " |      Remove all items from list.\n",
      " |  \n",
      " |  copy(self, /)\n",
      " |      Return a shallow copy of the list.\n",
      " |  \n",
      " |  count(self, value, /)\n",
      " |      Return number of occurrences of value.\n",
      " |  \n",
      " |  extend(self, iterable, /)\n",
      " |      Extend list by appending elements from the iterable.\n",
      " |  \n",
      " |  index(self, value, start=0, stop=9223372036854775807, /)\n",
      " |      Return first index of value.\n",
      " |      \n",
      " |      Raises ValueError if the value is not present.\n",
      " |  \n",
      " |  insert(self, index, object, /)\n",
      " |      Insert object before index.\n",
      " |  \n",
      " |  pop(self, index=-1, /)\n",
      " |      Remove and return item at index (default last).\n",
      " |      \n",
      " |      Raises IndexError if list is empty or index is out of range.\n",
      " |  \n",
      " |  remove(self, value, /)\n",
      " |      Remove first occurrence of value.\n",
      " |      \n",
      " |      Raises ValueError if the value is not present.\n",
      " |  \n",
      " |  reverse(self, /)\n",
      " |      Reverse *IN PLACE*.\n",
      " |  \n",
      " |  sort(self, /, *, key=None, reverse=False)\n",
      " |      Sort the list in ascending order and return None.\n",
      " |      \n",
      " |      The sort is in-place (i.e. the list itself is modified) and stable (i.e. the\n",
      " |      order of two equal elements is maintained).\n",
      " |      \n",
      " |      If a key function is given, apply it once to each list item and sort them,\n",
      " |      ascending or descending, according to their function values.\n",
      " |      \n",
      " |      The reverse flag can be set to sort in descending order.\n",
      " |  \n",
      " |  ----------------------------------------------------------------------\n",
      " |  Class methods defined here:\n",
      " |  \n",
      " |  __class_getitem__(...) from builtins.type\n",
      " |      See PEP 585\n",
      " |  \n",
      " |  ----------------------------------------------------------------------\n",
      " |  Static methods defined here:\n",
      " |  \n",
      " |  __new__(*args, **kwargs) from builtins.type\n",
      " |      Create and return a new object.  See help(type) for accurate signature.\n",
      " |  \n",
      " |  ----------------------------------------------------------------------\n",
      " |  Data and other attributes defined here:\n",
      " |  \n",
      " |  __hash__ = None\n",
      "\n"
     ]
    }
   ],
   "source": [
    "help(numbers)"
   ]
  },
  {
   "cell_type": "markdown",
   "metadata": {},
   "source": [
    "### Tuples\n",
    "A tuple is similar to a list in that it’s an ordered sequence of elements. However, tuples can not be changed once created (they are “immutable”). Tuples are created by placing comma-separated values inside parentheses ()."
   ]
  },
  {
   "cell_type": "code",
   "execution_count": 31,
   "metadata": {},
   "outputs": [],
   "source": [
    "# Tuples use parentheses\n",
    "a_tuple = (1, 2, 3)\n",
    "another_tuple = ('blue', 'green', 'red')\n",
    "\n",
    "# Note: lists use square brackets\n",
    "a_list = [1, 2, 3]"
   ]
  },
  {
   "cell_type": "markdown",
   "metadata": {},
   "source": [
    "---------------------------------\n",
    "# CHALLENGE 1\n",
    "---------------------------------"
   ]
  },
  {
   "cell_type": "markdown",
   "metadata": {},
   "source": [
    "## Dictionaries"
   ]
  },
  {
   "cell_type": "markdown",
   "metadata": {},
   "source": [
    "A dictionary is a container that holds pairs of objects - keys and values."
   ]
  },
  {
   "cell_type": "code",
   "execution_count": 32,
   "metadata": {},
   "outputs": [
    {
     "data": {
      "text/plain": [
       "'first'"
      ]
     },
     "execution_count": 32,
     "metadata": {},
     "output_type": "execute_result"
    }
   ],
   "source": [
    "translation = {'one': 'first', 'two': 'second'}\n",
    "translation['one']"
   ]
  },
  {
   "cell_type": "markdown",
   "metadata": {},
   "source": [
    "Dictionaries work a lot like lists - except that you index them with keys. You can think about a key as a name or unique identifier for the value it corresponds to."
   ]
  },
  {
   "cell_type": "code",
   "execution_count": 33,
   "metadata": {},
   "outputs": [
    {
     "data": {
      "text/plain": [
       "'one'"
      ]
     },
     "execution_count": 33,
     "metadata": {},
     "output_type": "execute_result"
    }
   ],
   "source": [
    "rev = {'first': 'one', 'second': 'two'}\n",
    "rev['first']"
   ]
  },
  {
   "cell_type": "markdown",
   "metadata": {},
   "source": [
    "To add an item to the dictionary we assign a value to a new key:"
   ]
  },
  {
   "cell_type": "code",
   "execution_count": 34,
   "metadata": {},
   "outputs": [
    {
     "data": {
      "text/plain": [
       "{'first': 'one', 'second': 'two', 'third': 'three'}"
      ]
     },
     "execution_count": 34,
     "metadata": {},
     "output_type": "execute_result"
    }
   ],
   "source": [
    "rev['third'] = 'three'\n",
    "rev"
   ]
  },
  {
   "cell_type": "markdown",
   "metadata": {},
   "source": [
    "Using for loops with dictionaries is a little more complicated. We can do this in two ways:"
   ]
  },
  {
   "cell_type": "code",
   "execution_count": 35,
   "metadata": {},
   "outputs": [
    {
     "name": "stdout",
     "output_type": "stream",
     "text": [
      "first -> one\n",
      "second -> two\n",
      "third -> three\n"
     ]
    }
   ],
   "source": [
    "for key, value in rev.items():\n",
    "    print(key, '->', value)"
   ]
  },
  {
   "cell_type": "code",
   "execution_count": 36,
   "metadata": {},
   "outputs": [
    {
     "name": "stdout",
     "output_type": "stream",
     "text": [
      "first -> one\n",
      "second -> two\n",
      "third -> three\n"
     ]
    }
   ],
   "source": [
    "for key in rev.keys():\n",
    "    print(key, '->', rev[key])"
   ]
  },
  {
   "cell_type": "markdown",
   "metadata": {},
   "source": [
    "---------------------------------\n",
    "# CHALLENGE 2\n",
    "---------------------------------"
   ]
  },
  {
   "cell_type": "markdown",
   "metadata": {},
   "source": [
    "## Functions"
   ]
  },
  {
   "cell_type": "markdown",
   "metadata": {},
   "source": [
    "Defining a section of code as a function in Python is done using the def keyword. For example a function that takes two arguments and returns their sum can be defined as:"
   ]
  },
  {
   "cell_type": "code",
   "execution_count": 38,
   "metadata": {},
   "outputs": [
    {
     "name": "stdout",
     "output_type": "stream",
     "text": [
      "42\n"
     ]
    }
   ],
   "source": [
    "def add_function(a, b):\n",
    "    result = a + b\n",
    "    return result\n",
    "\n",
    "z = add_function(20, 22)\n",
    "print(z)"
   ]
  },
  {
   "cell_type": "markdown",
   "metadata": {},
   "source": [
    "## Working With Pandas DataFrames in Python"
   ]
  },
  {
   "cell_type": "markdown",
   "metadata": {},
   "source": [
    "### About Libraries\n",
    "A library in Python contains a set of tools (called functions) that perform tasks on our data. Importing a library is like getting a piece of lab equipment out of a storage locker and setting it up on the bench for use in a project. Once a library is set up, it can be used or called to perform the task(s) it was built to do.\n",
    "\n",
    "One of the best options for working with tabular data in Python is to use the Python Data Analysis Library (a.k.a. Pandas). "
   ]
  },
  {
   "cell_type": "code",
   "execution_count": 37,
   "metadata": {},
   "outputs": [],
   "source": [
    "import pandas as pd"
   ]
  },
  {
   "cell_type": "markdown",
   "metadata": {},
   "source": [
    "### Reading CSV Data Using Pandas "
   ]
  },
  {
   "cell_type": "markdown",
   "metadata": {},
   "source": [
    "We can use Pandas’ read_csv function to pull the file directly into a DataFrame.\n",
    "\n",
    "A DataFrame is a 2-dimensional data structure that can store data of different types (including strings, numbers, categories and more) in columns."
   ]
  },
  {
   "cell_type": "code",
   "execution_count": 39,
   "metadata": {},
   "outputs": [
    {
     "data": {
      "text/html": [
       "<div>\n",
       "<style scoped>\n",
       "    .dataframe tbody tr th:only-of-type {\n",
       "        vertical-align: middle;\n",
       "    }\n",
       "\n",
       "    .dataframe tbody tr th {\n",
       "        vertical-align: top;\n",
       "    }\n",
       "\n",
       "    .dataframe thead th {\n",
       "        text-align: right;\n",
       "    }\n",
       "</style>\n",
       "<table border=\"1\" class=\"dataframe\">\n",
       "  <thead>\n",
       "    <tr style=\"text-align: right;\">\n",
       "      <th></th>\n",
       "      <th>id</th>\n",
       "      <th>imdb_id</th>\n",
       "      <th>popularity</th>\n",
       "      <th>budget</th>\n",
       "      <th>revenue</th>\n",
       "      <th>original_title</th>\n",
       "      <th>cast</th>\n",
       "      <th>homepage</th>\n",
       "      <th>director</th>\n",
       "      <th>tagline</th>\n",
       "      <th>...</th>\n",
       "      <th>overview</th>\n",
       "      <th>runtime</th>\n",
       "      <th>genres</th>\n",
       "      <th>production_companies</th>\n",
       "      <th>release_date</th>\n",
       "      <th>vote_count</th>\n",
       "      <th>vote_average</th>\n",
       "      <th>release_year</th>\n",
       "      <th>budget_adj</th>\n",
       "      <th>revenue_adj</th>\n",
       "    </tr>\n",
       "  </thead>\n",
       "  <tbody>\n",
       "    <tr>\n",
       "      <th>0</th>\n",
       "      <td>24452</td>\n",
       "      <td>tt0054033</td>\n",
       "      <td>0.225218</td>\n",
       "      <td>30000</td>\n",
       "      <td>0</td>\n",
       "      <td>The Little Shop of Horrors</td>\n",
       "      <td>Jackie Joseph|Mel Welles|Jack Nicholson|Leola ...</td>\n",
       "      <td>NaN</td>\n",
       "      <td>Roger Corman</td>\n",
       "      <td>The funniest picture of the year!</td>\n",
       "      <td>...</td>\n",
       "      <td>Black comedy about a young man who creates a c...</td>\n",
       "      <td>70</td>\n",
       "      <td>Comedy</td>\n",
       "      <td>Santa Clara Productions</td>\n",
       "      <td>9/14/60</td>\n",
       "      <td>23</td>\n",
       "      <td>6.0</td>\n",
       "      <td>1960</td>\n",
       "      <td>2.211890e+05</td>\n",
       "      <td>0.000000e+00</td>\n",
       "    </tr>\n",
       "    <tr>\n",
       "      <th>1</th>\n",
       "      <td>15788</td>\n",
       "      <td>tt0053644</td>\n",
       "      <td>0.114188</td>\n",
       "      <td>0</td>\n",
       "      <td>10000000</td>\n",
       "      <td>The Bellboy</td>\n",
       "      <td>Jerry Lewis|Alex Gerry|Bob Clayton|Sonnie Sand...</td>\n",
       "      <td>NaN</td>\n",
       "      <td>Jerry Lewis</td>\n",
       "      <td>It's a Series of Silly Sequences and One of Je...</td>\n",
       "      <td>...</td>\n",
       "      <td>Stanley is a bellboy at the Fountainbleau Hote...</td>\n",
       "      <td>72</td>\n",
       "      <td>Comedy|Family</td>\n",
       "      <td>Paramount Pictures|Jerry Lewis Productions</td>\n",
       "      <td>7/20/60</td>\n",
       "      <td>12</td>\n",
       "      <td>7.0</td>\n",
       "      <td>1960</td>\n",
       "      <td>0.000000e+00</td>\n",
       "      <td>7.372967e+07</td>\n",
       "    </tr>\n",
       "    <tr>\n",
       "      <th>2</th>\n",
       "      <td>1673</td>\n",
       "      <td>tt0053729</td>\n",
       "      <td>0.267118</td>\n",
       "      <td>0</td>\n",
       "      <td>0</td>\n",
       "      <td>Comanche Station</td>\n",
       "      <td>Randolph Scott|Nancy Gates|Skip Homeier|Dyke J...</td>\n",
       "      <td>NaN</td>\n",
       "      <td>Budd Boetticher</td>\n",
       "      <td>The One-Man War Against The Comancheros!</td>\n",
       "      <td>...</td>\n",
       "      <td>A man saves a woman who had been kidnapped by ...</td>\n",
       "      <td>73</td>\n",
       "      <td>Action|Western</td>\n",
       "      <td>Columbia Pictures Corporation|Ranown Pictures ...</td>\n",
       "      <td>3/1/60</td>\n",
       "      <td>12</td>\n",
       "      <td>6.5</td>\n",
       "      <td>1960</td>\n",
       "      <td>0.000000e+00</td>\n",
       "      <td>0.000000e+00</td>\n",
       "    </tr>\n",
       "    <tr>\n",
       "      <th>3</th>\n",
       "      <td>39890</td>\n",
       "      <td>tt0053719</td>\n",
       "      <td>0.065808</td>\n",
       "      <td>0</td>\n",
       "      <td>0</td>\n",
       "      <td>The City of the Dead</td>\n",
       "      <td>Christopher Lee|Dennis Lotis|Patricia Jessel|T...</td>\n",
       "      <td>NaN</td>\n",
       "      <td>John Llewellyn Moxey</td>\n",
       "      <td>300 years old! Human blood keeps them alive fo...</td>\n",
       "      <td>...</td>\n",
       "      <td>A young coed (Nan Barlow) uses her winter vaca...</td>\n",
       "      <td>76</td>\n",
       "      <td>Horror</td>\n",
       "      <td>Vulcan Productions Inc.</td>\n",
       "      <td>9/9/60</td>\n",
       "      <td>13</td>\n",
       "      <td>6.1</td>\n",
       "      <td>1960</td>\n",
       "      <td>0.000000e+00</td>\n",
       "      <td>0.000000e+00</td>\n",
       "    </tr>\n",
       "    <tr>\n",
       "      <th>4</th>\n",
       "      <td>11773</td>\n",
       "      <td>tt0054443</td>\n",
       "      <td>0.127219</td>\n",
       "      <td>200000</td>\n",
       "      <td>0</td>\n",
       "      <td>Village of the Damned</td>\n",
       "      <td>George Sanders|Barbara Shelley|Martin Stephens...</td>\n",
       "      <td>NaN</td>\n",
       "      <td>Wolf Rilla</td>\n",
       "      <td>What Demonic Force Lurks Behind Those Eyes?</td>\n",
       "      <td>...</td>\n",
       "      <td>In a small English village everyone suddenly f...</td>\n",
       "      <td>77</td>\n",
       "      <td>Horror|Science Fiction</td>\n",
       "      <td>Metro-Goldwyn-Mayer (MGM)</td>\n",
       "      <td>7/1/60</td>\n",
       "      <td>28</td>\n",
       "      <td>7.0</td>\n",
       "      <td>1960</td>\n",
       "      <td>1.474593e+06</td>\n",
       "      <td>0.000000e+00</td>\n",
       "    </tr>\n",
       "    <tr>\n",
       "      <th>...</th>\n",
       "      <td>...</td>\n",
       "      <td>...</td>\n",
       "      <td>...</td>\n",
       "      <td>...</td>\n",
       "      <td>...</td>\n",
       "      <td>...</td>\n",
       "      <td>...</td>\n",
       "      <td>...</td>\n",
       "      <td>...</td>\n",
       "      <td>...</td>\n",
       "      <td>...</td>\n",
       "      <td>...</td>\n",
       "      <td>...</td>\n",
       "      <td>...</td>\n",
       "      <td>...</td>\n",
       "      <td>...</td>\n",
       "      <td>...</td>\n",
       "      <td>...</td>\n",
       "      <td>...</td>\n",
       "      <td>...</td>\n",
       "      <td>...</td>\n",
       "    </tr>\n",
       "    <tr>\n",
       "      <th>10820</th>\n",
       "      <td>273248</td>\n",
       "      <td>tt3460252</td>\n",
       "      <td>5.898400</td>\n",
       "      <td>44000000</td>\n",
       "      <td>155760117</td>\n",
       "      <td>The Hateful Eight</td>\n",
       "      <td>Samuel L. Jackson|Kurt Russell|Jennifer Jason ...</td>\n",
       "      <td>http://thehatefuleight.com/</td>\n",
       "      <td>Quentin Tarantino</td>\n",
       "      <td>No one comes up here without a damn good reason.</td>\n",
       "      <td>...</td>\n",
       "      <td>Bounty hunters seek shelter from a raging bliz...</td>\n",
       "      <td>167</td>\n",
       "      <td>Crime|Drama|Mystery|Western</td>\n",
       "      <td>Double Feature Films|The Weinstein Company|Fil...</td>\n",
       "      <td>12/25/15</td>\n",
       "      <td>2389</td>\n",
       "      <td>7.4</td>\n",
       "      <td>2015</td>\n",
       "      <td>4.047998e+07</td>\n",
       "      <td>1.432992e+08</td>\n",
       "    </tr>\n",
       "    <tr>\n",
       "      <th>10821</th>\n",
       "      <td>371758</td>\n",
       "      <td>tt3581932</td>\n",
       "      <td>0.112284</td>\n",
       "      <td>0</td>\n",
       "      <td>0</td>\n",
       "      <td>And Then There Were None</td>\n",
       "      <td>Maeve Dermody|Aidan Turner|Charles Dance|Dougl...</td>\n",
       "      <td>http://www.bbc.co.uk/programmes/b06v2v52</td>\n",
       "      <td>Craig Viveiros</td>\n",
       "      <td>Agatha Christie's darkest thriller</td>\n",
       "      <td>...</td>\n",
       "      <td>Ten strangers, drawn away from their normal li...</td>\n",
       "      <td>168</td>\n",
       "      <td>Mystery|Drama</td>\n",
       "      <td>British Broadcasting Corporation (BBC)|Mammoth...</td>\n",
       "      <td>12/26/15</td>\n",
       "      <td>37</td>\n",
       "      <td>7.7</td>\n",
       "      <td>2015</td>\n",
       "      <td>0.000000e+00</td>\n",
       "      <td>0.000000e+00</td>\n",
       "    </tr>\n",
       "    <tr>\n",
       "      <th>10822</th>\n",
       "      <td>321640</td>\n",
       "      <td>tt4299972</td>\n",
       "      <td>0.033378</td>\n",
       "      <td>0</td>\n",
       "      <td>0</td>\n",
       "      <td>The Jinx: The Life and Deaths of Robert Durst</td>\n",
       "      <td>Robert Durst|Andrew Jarecki|Marc Smerling|Zach...</td>\n",
       "      <td>NaN</td>\n",
       "      <td>Andrew Jarecki</td>\n",
       "      <td>Four Decades. Three Murders. And One Very Rich...</td>\n",
       "      <td>...</td>\n",
       "      <td>Robert Durst, scion of one of New Yorkâ€™s bil...</td>\n",
       "      <td>240</td>\n",
       "      <td>Documentary</td>\n",
       "      <td>Blumhouse Productions|Hit the Ground Running F...</td>\n",
       "      <td>2/8/15</td>\n",
       "      <td>72</td>\n",
       "      <td>8.4</td>\n",
       "      <td>2015</td>\n",
       "      <td>0.000000e+00</td>\n",
       "      <td>0.000000e+00</td>\n",
       "    </tr>\n",
       "    <tr>\n",
       "      <th>10823</th>\n",
       "      <td>373977</td>\n",
       "      <td>tt4146128</td>\n",
       "      <td>0.031635</td>\n",
       "      <td>0</td>\n",
       "      <td>0</td>\n",
       "      <td>Childhood's End</td>\n",
       "      <td>Mike Vogel|Osy Ikhile|Daisy Betts|Georgina Hai...</td>\n",
       "      <td>NaN</td>\n",
       "      <td>Nick Hurran</td>\n",
       "      <td>NaN</td>\n",
       "      <td>...</td>\n",
       "      <td>After peaceful aliens invade earth, humanity f...</td>\n",
       "      <td>246</td>\n",
       "      <td>Thriller|TV Movie|Science Fiction|Drama</td>\n",
       "      <td>NaN</td>\n",
       "      <td>12/14/15</td>\n",
       "      <td>21</td>\n",
       "      <td>6.2</td>\n",
       "      <td>2015</td>\n",
       "      <td>0.000000e+00</td>\n",
       "      <td>0.000000e+00</td>\n",
       "    </tr>\n",
       "    <tr>\n",
       "      <th>10824</th>\n",
       "      <td>340968</td>\n",
       "      <td>tt2492296</td>\n",
       "      <td>0.249595</td>\n",
       "      <td>0</td>\n",
       "      <td>0</td>\n",
       "      <td>Show Me a Hero</td>\n",
       "      <td>Oscar Isaac|Alfred Molina|Winona Ryder|Catheri...</td>\n",
       "      <td>NaN</td>\n",
       "      <td>Paul Haggis</td>\n",
       "      <td>How does a politician know he's doing the righ...</td>\n",
       "      <td>...</td>\n",
       "      <td>Mayor Nick Wasicsko took office in 1987 during...</td>\n",
       "      <td>300</td>\n",
       "      <td>History|Crime|Drama</td>\n",
       "      <td>NaN</td>\n",
       "      <td>8/16/15</td>\n",
       "      <td>32</td>\n",
       "      <td>7.7</td>\n",
       "      <td>2015</td>\n",
       "      <td>0.000000e+00</td>\n",
       "      <td>0.000000e+00</td>\n",
       "    </tr>\n",
       "  </tbody>\n",
       "</table>\n",
       "<p>10825 rows × 21 columns</p>\n",
       "</div>"
      ],
      "text/plain": [
       "           id    imdb_id  popularity    budget    revenue  \\\n",
       "0       24452  tt0054033    0.225218     30000          0   \n",
       "1       15788  tt0053644    0.114188         0   10000000   \n",
       "2        1673  tt0053729    0.267118         0          0   \n",
       "3       39890  tt0053719    0.065808         0          0   \n",
       "4       11773  tt0054443    0.127219    200000          0   \n",
       "...       ...        ...         ...       ...        ...   \n",
       "10820  273248  tt3460252    5.898400  44000000  155760117   \n",
       "10821  371758  tt3581932    0.112284         0          0   \n",
       "10822  321640  tt4299972    0.033378         0          0   \n",
       "10823  373977  tt4146128    0.031635         0          0   \n",
       "10824  340968  tt2492296    0.249595         0          0   \n",
       "\n",
       "                                      original_title  \\\n",
       "0                         The Little Shop of Horrors   \n",
       "1                                        The Bellboy   \n",
       "2                                   Comanche Station   \n",
       "3                               The City of the Dead   \n",
       "4                              Village of the Damned   \n",
       "...                                              ...   \n",
       "10820                              The Hateful Eight   \n",
       "10821                       And Then There Were None   \n",
       "10822  The Jinx: The Life and Deaths of Robert Durst   \n",
       "10823                                Childhood's End   \n",
       "10824                                 Show Me a Hero   \n",
       "\n",
       "                                                    cast  \\\n",
       "0      Jackie Joseph|Mel Welles|Jack Nicholson|Leola ...   \n",
       "1      Jerry Lewis|Alex Gerry|Bob Clayton|Sonnie Sand...   \n",
       "2      Randolph Scott|Nancy Gates|Skip Homeier|Dyke J...   \n",
       "3      Christopher Lee|Dennis Lotis|Patricia Jessel|T...   \n",
       "4      George Sanders|Barbara Shelley|Martin Stephens...   \n",
       "...                                                  ...   \n",
       "10820  Samuel L. Jackson|Kurt Russell|Jennifer Jason ...   \n",
       "10821  Maeve Dermody|Aidan Turner|Charles Dance|Dougl...   \n",
       "10822  Robert Durst|Andrew Jarecki|Marc Smerling|Zach...   \n",
       "10823  Mike Vogel|Osy Ikhile|Daisy Betts|Georgina Hai...   \n",
       "10824  Oscar Isaac|Alfred Molina|Winona Ryder|Catheri...   \n",
       "\n",
       "                                       homepage              director  \\\n",
       "0                                           NaN          Roger Corman   \n",
       "1                                           NaN           Jerry Lewis   \n",
       "2                                           NaN       Budd Boetticher   \n",
       "3                                           NaN  John Llewellyn Moxey   \n",
       "4                                           NaN            Wolf Rilla   \n",
       "...                                         ...                   ...   \n",
       "10820               http://thehatefuleight.com/     Quentin Tarantino   \n",
       "10821  http://www.bbc.co.uk/programmes/b06v2v52        Craig Viveiros   \n",
       "10822                                       NaN        Andrew Jarecki   \n",
       "10823                                       NaN           Nick Hurran   \n",
       "10824                                       NaN           Paul Haggis   \n",
       "\n",
       "                                                 tagline  ...  \\\n",
       "0                      The funniest picture of the year!  ...   \n",
       "1      It's a Series of Silly Sequences and One of Je...  ...   \n",
       "2               The One-Man War Against The Comancheros!  ...   \n",
       "3      300 years old! Human blood keeps them alive fo...  ...   \n",
       "4            What Demonic Force Lurks Behind Those Eyes?  ...   \n",
       "...                                                  ...  ...   \n",
       "10820   No one comes up here without a damn good reason.  ...   \n",
       "10821                 Agatha Christie's darkest thriller  ...   \n",
       "10822  Four Decades. Three Murders. And One Very Rich...  ...   \n",
       "10823                                                NaN  ...   \n",
       "10824  How does a politician know he's doing the righ...  ...   \n",
       "\n",
       "                                                overview runtime  \\\n",
       "0      Black comedy about a young man who creates a c...      70   \n",
       "1      Stanley is a bellboy at the Fountainbleau Hote...      72   \n",
       "2      A man saves a woman who had been kidnapped by ...      73   \n",
       "3      A young coed (Nan Barlow) uses her winter vaca...      76   \n",
       "4      In a small English village everyone suddenly f...      77   \n",
       "...                                                  ...     ...   \n",
       "10820  Bounty hunters seek shelter from a raging bliz...     167   \n",
       "10821  Ten strangers, drawn away from their normal li...     168   \n",
       "10822  Robert Durst, scion of one of New Yorkâ€™s bil...     240   \n",
       "10823  After peaceful aliens invade earth, humanity f...     246   \n",
       "10824  Mayor Nick Wasicsko took office in 1987 during...     300   \n",
       "\n",
       "                                        genres  \\\n",
       "0                                       Comedy   \n",
       "1                                Comedy|Family   \n",
       "2                               Action|Western   \n",
       "3                                       Horror   \n",
       "4                       Horror|Science Fiction   \n",
       "...                                        ...   \n",
       "10820              Crime|Drama|Mystery|Western   \n",
       "10821                            Mystery|Drama   \n",
       "10822                              Documentary   \n",
       "10823  Thriller|TV Movie|Science Fiction|Drama   \n",
       "10824                      History|Crime|Drama   \n",
       "\n",
       "                                    production_companies release_date  \\\n",
       "0                                Santa Clara Productions      9/14/60   \n",
       "1             Paramount Pictures|Jerry Lewis Productions      7/20/60   \n",
       "2      Columbia Pictures Corporation|Ranown Pictures ...       3/1/60   \n",
       "3                                Vulcan Productions Inc.       9/9/60   \n",
       "4                              Metro-Goldwyn-Mayer (MGM)       7/1/60   \n",
       "...                                                  ...          ...   \n",
       "10820  Double Feature Films|The Weinstein Company|Fil...     12/25/15   \n",
       "10821  British Broadcasting Corporation (BBC)|Mammoth...     12/26/15   \n",
       "10822  Blumhouse Productions|Hit the Ground Running F...       2/8/15   \n",
       "10823                                                NaN     12/14/15   \n",
       "10824                                                NaN      8/16/15   \n",
       "\n",
       "      vote_count  vote_average  release_year    budget_adj   revenue_adj  \n",
       "0             23           6.0          1960  2.211890e+05  0.000000e+00  \n",
       "1             12           7.0          1960  0.000000e+00  7.372967e+07  \n",
       "2             12           6.5          1960  0.000000e+00  0.000000e+00  \n",
       "3             13           6.1          1960  0.000000e+00  0.000000e+00  \n",
       "4             28           7.0          1960  1.474593e+06  0.000000e+00  \n",
       "...          ...           ...           ...           ...           ...  \n",
       "10820       2389           7.4          2015  4.047998e+07  1.432992e+08  \n",
       "10821         37           7.7          2015  0.000000e+00  0.000000e+00  \n",
       "10822         72           8.4          2015  0.000000e+00  0.000000e+00  \n",
       "10823         21           6.2          2015  0.000000e+00  0.000000e+00  \n",
       "10824         32           7.7          2015  0.000000e+00  0.000000e+00  \n",
       "\n",
       "[10825 rows x 21 columns]"
      ]
     },
     "execution_count": 39,
     "metadata": {},
     "output_type": "execute_result"
    }
   ],
   "source": [
    "# Note that pd.read_csv is used because we imported pandas as pd\n",
    "pd.read_csv(\"tmdb-movies.csv\")\n",
    "# The first column is the index of the DataFrame. \n",
    "# The index is used to identify the position of the data, \n",
    "# but it is not an actual column of the DataFrame."
   ]
  },
  {
   "cell_type": "markdown",
   "metadata": {},
   "source": [
    "------------------------------------------------------\n",
    "# SLIDES\n",
    "------------------------------------------------------"
   ]
  },
  {
   "cell_type": "markdown",
   "metadata": {},
   "source": [
    "We need to save the data to memory so we can work with it.\n",
    "To do that, we need to assign the DataFrame to a variable."
   ]
  },
  {
   "cell_type": "code",
   "execution_count": 40,
   "metadata": {},
   "outputs": [],
   "source": [
    "# Save data to memory\n",
    "my_data = pd.read_csv(\"tmdb-movies.csv\")"
   ]
  },
  {
   "cell_type": "code",
   "execution_count": 41,
   "metadata": {},
   "outputs": [
    {
     "data": {
      "text/html": [
       "<div>\n",
       "<style scoped>\n",
       "    .dataframe tbody tr th:only-of-type {\n",
       "        vertical-align: middle;\n",
       "    }\n",
       "\n",
       "    .dataframe tbody tr th {\n",
       "        vertical-align: top;\n",
       "    }\n",
       "\n",
       "    .dataframe thead th {\n",
       "        text-align: right;\n",
       "    }\n",
       "</style>\n",
       "<table border=\"1\" class=\"dataframe\">\n",
       "  <thead>\n",
       "    <tr style=\"text-align: right;\">\n",
       "      <th></th>\n",
       "      <th>id</th>\n",
       "      <th>imdb_id</th>\n",
       "      <th>popularity</th>\n",
       "      <th>budget</th>\n",
       "      <th>revenue</th>\n",
       "      <th>original_title</th>\n",
       "      <th>cast</th>\n",
       "      <th>homepage</th>\n",
       "      <th>director</th>\n",
       "      <th>tagline</th>\n",
       "      <th>...</th>\n",
       "      <th>overview</th>\n",
       "      <th>runtime</th>\n",
       "      <th>genres</th>\n",
       "      <th>production_companies</th>\n",
       "      <th>release_date</th>\n",
       "      <th>vote_count</th>\n",
       "      <th>vote_average</th>\n",
       "      <th>release_year</th>\n",
       "      <th>budget_adj</th>\n",
       "      <th>revenue_adj</th>\n",
       "    </tr>\n",
       "  </thead>\n",
       "  <tbody>\n",
       "    <tr>\n",
       "      <th>0</th>\n",
       "      <td>24452</td>\n",
       "      <td>tt0054033</td>\n",
       "      <td>0.225218</td>\n",
       "      <td>30000</td>\n",
       "      <td>0</td>\n",
       "      <td>The Little Shop of Horrors</td>\n",
       "      <td>Jackie Joseph|Mel Welles|Jack Nicholson|Leola ...</td>\n",
       "      <td>NaN</td>\n",
       "      <td>Roger Corman</td>\n",
       "      <td>The funniest picture of the year!</td>\n",
       "      <td>...</td>\n",
       "      <td>Black comedy about a young man who creates a c...</td>\n",
       "      <td>70</td>\n",
       "      <td>Comedy</td>\n",
       "      <td>Santa Clara Productions</td>\n",
       "      <td>9/14/60</td>\n",
       "      <td>23</td>\n",
       "      <td>6.0</td>\n",
       "      <td>1960</td>\n",
       "      <td>2.211890e+05</td>\n",
       "      <td>0.000000e+00</td>\n",
       "    </tr>\n",
       "    <tr>\n",
       "      <th>1</th>\n",
       "      <td>15788</td>\n",
       "      <td>tt0053644</td>\n",
       "      <td>0.114188</td>\n",
       "      <td>0</td>\n",
       "      <td>10000000</td>\n",
       "      <td>The Bellboy</td>\n",
       "      <td>Jerry Lewis|Alex Gerry|Bob Clayton|Sonnie Sand...</td>\n",
       "      <td>NaN</td>\n",
       "      <td>Jerry Lewis</td>\n",
       "      <td>It's a Series of Silly Sequences and One of Je...</td>\n",
       "      <td>...</td>\n",
       "      <td>Stanley is a bellboy at the Fountainbleau Hote...</td>\n",
       "      <td>72</td>\n",
       "      <td>Comedy|Family</td>\n",
       "      <td>Paramount Pictures|Jerry Lewis Productions</td>\n",
       "      <td>7/20/60</td>\n",
       "      <td>12</td>\n",
       "      <td>7.0</td>\n",
       "      <td>1960</td>\n",
       "      <td>0.000000e+00</td>\n",
       "      <td>7.372967e+07</td>\n",
       "    </tr>\n",
       "    <tr>\n",
       "      <th>2</th>\n",
       "      <td>1673</td>\n",
       "      <td>tt0053729</td>\n",
       "      <td>0.267118</td>\n",
       "      <td>0</td>\n",
       "      <td>0</td>\n",
       "      <td>Comanche Station</td>\n",
       "      <td>Randolph Scott|Nancy Gates|Skip Homeier|Dyke J...</td>\n",
       "      <td>NaN</td>\n",
       "      <td>Budd Boetticher</td>\n",
       "      <td>The One-Man War Against The Comancheros!</td>\n",
       "      <td>...</td>\n",
       "      <td>A man saves a woman who had been kidnapped by ...</td>\n",
       "      <td>73</td>\n",
       "      <td>Action|Western</td>\n",
       "      <td>Columbia Pictures Corporation|Ranown Pictures ...</td>\n",
       "      <td>3/1/60</td>\n",
       "      <td>12</td>\n",
       "      <td>6.5</td>\n",
       "      <td>1960</td>\n",
       "      <td>0.000000e+00</td>\n",
       "      <td>0.000000e+00</td>\n",
       "    </tr>\n",
       "    <tr>\n",
       "      <th>3</th>\n",
       "      <td>39890</td>\n",
       "      <td>tt0053719</td>\n",
       "      <td>0.065808</td>\n",
       "      <td>0</td>\n",
       "      <td>0</td>\n",
       "      <td>The City of the Dead</td>\n",
       "      <td>Christopher Lee|Dennis Lotis|Patricia Jessel|T...</td>\n",
       "      <td>NaN</td>\n",
       "      <td>John Llewellyn Moxey</td>\n",
       "      <td>300 years old! Human blood keeps them alive fo...</td>\n",
       "      <td>...</td>\n",
       "      <td>A young coed (Nan Barlow) uses her winter vaca...</td>\n",
       "      <td>76</td>\n",
       "      <td>Horror</td>\n",
       "      <td>Vulcan Productions Inc.</td>\n",
       "      <td>9/9/60</td>\n",
       "      <td>13</td>\n",
       "      <td>6.1</td>\n",
       "      <td>1960</td>\n",
       "      <td>0.000000e+00</td>\n",
       "      <td>0.000000e+00</td>\n",
       "    </tr>\n",
       "    <tr>\n",
       "      <th>4</th>\n",
       "      <td>11773</td>\n",
       "      <td>tt0054443</td>\n",
       "      <td>0.127219</td>\n",
       "      <td>200000</td>\n",
       "      <td>0</td>\n",
       "      <td>Village of the Damned</td>\n",
       "      <td>George Sanders|Barbara Shelley|Martin Stephens...</td>\n",
       "      <td>NaN</td>\n",
       "      <td>Wolf Rilla</td>\n",
       "      <td>What Demonic Force Lurks Behind Those Eyes?</td>\n",
       "      <td>...</td>\n",
       "      <td>In a small English village everyone suddenly f...</td>\n",
       "      <td>77</td>\n",
       "      <td>Horror|Science Fiction</td>\n",
       "      <td>Metro-Goldwyn-Mayer (MGM)</td>\n",
       "      <td>7/1/60</td>\n",
       "      <td>28</td>\n",
       "      <td>7.0</td>\n",
       "      <td>1960</td>\n",
       "      <td>1.474593e+06</td>\n",
       "      <td>0.000000e+00</td>\n",
       "    </tr>\n",
       "    <tr>\n",
       "      <th>...</th>\n",
       "      <td>...</td>\n",
       "      <td>...</td>\n",
       "      <td>...</td>\n",
       "      <td>...</td>\n",
       "      <td>...</td>\n",
       "      <td>...</td>\n",
       "      <td>...</td>\n",
       "      <td>...</td>\n",
       "      <td>...</td>\n",
       "      <td>...</td>\n",
       "      <td>...</td>\n",
       "      <td>...</td>\n",
       "      <td>...</td>\n",
       "      <td>...</td>\n",
       "      <td>...</td>\n",
       "      <td>...</td>\n",
       "      <td>...</td>\n",
       "      <td>...</td>\n",
       "      <td>...</td>\n",
       "      <td>...</td>\n",
       "      <td>...</td>\n",
       "    </tr>\n",
       "    <tr>\n",
       "      <th>10820</th>\n",
       "      <td>273248</td>\n",
       "      <td>tt3460252</td>\n",
       "      <td>5.898400</td>\n",
       "      <td>44000000</td>\n",
       "      <td>155760117</td>\n",
       "      <td>The Hateful Eight</td>\n",
       "      <td>Samuel L. Jackson|Kurt Russell|Jennifer Jason ...</td>\n",
       "      <td>http://thehatefuleight.com/</td>\n",
       "      <td>Quentin Tarantino</td>\n",
       "      <td>No one comes up here without a damn good reason.</td>\n",
       "      <td>...</td>\n",
       "      <td>Bounty hunters seek shelter from a raging bliz...</td>\n",
       "      <td>167</td>\n",
       "      <td>Crime|Drama|Mystery|Western</td>\n",
       "      <td>Double Feature Films|The Weinstein Company|Fil...</td>\n",
       "      <td>12/25/15</td>\n",
       "      <td>2389</td>\n",
       "      <td>7.4</td>\n",
       "      <td>2015</td>\n",
       "      <td>4.047998e+07</td>\n",
       "      <td>1.432992e+08</td>\n",
       "    </tr>\n",
       "    <tr>\n",
       "      <th>10821</th>\n",
       "      <td>371758</td>\n",
       "      <td>tt3581932</td>\n",
       "      <td>0.112284</td>\n",
       "      <td>0</td>\n",
       "      <td>0</td>\n",
       "      <td>And Then There Were None</td>\n",
       "      <td>Maeve Dermody|Aidan Turner|Charles Dance|Dougl...</td>\n",
       "      <td>http://www.bbc.co.uk/programmes/b06v2v52</td>\n",
       "      <td>Craig Viveiros</td>\n",
       "      <td>Agatha Christie's darkest thriller</td>\n",
       "      <td>...</td>\n",
       "      <td>Ten strangers, drawn away from their normal li...</td>\n",
       "      <td>168</td>\n",
       "      <td>Mystery|Drama</td>\n",
       "      <td>British Broadcasting Corporation (BBC)|Mammoth...</td>\n",
       "      <td>12/26/15</td>\n",
       "      <td>37</td>\n",
       "      <td>7.7</td>\n",
       "      <td>2015</td>\n",
       "      <td>0.000000e+00</td>\n",
       "      <td>0.000000e+00</td>\n",
       "    </tr>\n",
       "    <tr>\n",
       "      <th>10822</th>\n",
       "      <td>321640</td>\n",
       "      <td>tt4299972</td>\n",
       "      <td>0.033378</td>\n",
       "      <td>0</td>\n",
       "      <td>0</td>\n",
       "      <td>The Jinx: The Life and Deaths of Robert Durst</td>\n",
       "      <td>Robert Durst|Andrew Jarecki|Marc Smerling|Zach...</td>\n",
       "      <td>NaN</td>\n",
       "      <td>Andrew Jarecki</td>\n",
       "      <td>Four Decades. Three Murders. And One Very Rich...</td>\n",
       "      <td>...</td>\n",
       "      <td>Robert Durst, scion of one of New Yorkâ€™s bil...</td>\n",
       "      <td>240</td>\n",
       "      <td>Documentary</td>\n",
       "      <td>Blumhouse Productions|Hit the Ground Running F...</td>\n",
       "      <td>2/8/15</td>\n",
       "      <td>72</td>\n",
       "      <td>8.4</td>\n",
       "      <td>2015</td>\n",
       "      <td>0.000000e+00</td>\n",
       "      <td>0.000000e+00</td>\n",
       "    </tr>\n",
       "    <tr>\n",
       "      <th>10823</th>\n",
       "      <td>373977</td>\n",
       "      <td>tt4146128</td>\n",
       "      <td>0.031635</td>\n",
       "      <td>0</td>\n",
       "      <td>0</td>\n",
       "      <td>Childhood's End</td>\n",
       "      <td>Mike Vogel|Osy Ikhile|Daisy Betts|Georgina Hai...</td>\n",
       "      <td>NaN</td>\n",
       "      <td>Nick Hurran</td>\n",
       "      <td>NaN</td>\n",
       "      <td>...</td>\n",
       "      <td>After peaceful aliens invade earth, humanity f...</td>\n",
       "      <td>246</td>\n",
       "      <td>Thriller|TV Movie|Science Fiction|Drama</td>\n",
       "      <td>NaN</td>\n",
       "      <td>12/14/15</td>\n",
       "      <td>21</td>\n",
       "      <td>6.2</td>\n",
       "      <td>2015</td>\n",
       "      <td>0.000000e+00</td>\n",
       "      <td>0.000000e+00</td>\n",
       "    </tr>\n",
       "    <tr>\n",
       "      <th>10824</th>\n",
       "      <td>340968</td>\n",
       "      <td>tt2492296</td>\n",
       "      <td>0.249595</td>\n",
       "      <td>0</td>\n",
       "      <td>0</td>\n",
       "      <td>Show Me a Hero</td>\n",
       "      <td>Oscar Isaac|Alfred Molina|Winona Ryder|Catheri...</td>\n",
       "      <td>NaN</td>\n",
       "      <td>Paul Haggis</td>\n",
       "      <td>How does a politician know he's doing the righ...</td>\n",
       "      <td>...</td>\n",
       "      <td>Mayor Nick Wasicsko took office in 1987 during...</td>\n",
       "      <td>300</td>\n",
       "      <td>History|Crime|Drama</td>\n",
       "      <td>NaN</td>\n",
       "      <td>8/16/15</td>\n",
       "      <td>32</td>\n",
       "      <td>7.7</td>\n",
       "      <td>2015</td>\n",
       "      <td>0.000000e+00</td>\n",
       "      <td>0.000000e+00</td>\n",
       "    </tr>\n",
       "  </tbody>\n",
       "</table>\n",
       "<p>10825 rows × 21 columns</p>\n",
       "</div>"
      ],
      "text/plain": [
       "           id    imdb_id  popularity    budget    revenue  \\\n",
       "0       24452  tt0054033    0.225218     30000          0   \n",
       "1       15788  tt0053644    0.114188         0   10000000   \n",
       "2        1673  tt0053729    0.267118         0          0   \n",
       "3       39890  tt0053719    0.065808         0          0   \n",
       "4       11773  tt0054443    0.127219    200000          0   \n",
       "...       ...        ...         ...       ...        ...   \n",
       "10820  273248  tt3460252    5.898400  44000000  155760117   \n",
       "10821  371758  tt3581932    0.112284         0          0   \n",
       "10822  321640  tt4299972    0.033378         0          0   \n",
       "10823  373977  tt4146128    0.031635         0          0   \n",
       "10824  340968  tt2492296    0.249595         0          0   \n",
       "\n",
       "                                      original_title  \\\n",
       "0                         The Little Shop of Horrors   \n",
       "1                                        The Bellboy   \n",
       "2                                   Comanche Station   \n",
       "3                               The City of the Dead   \n",
       "4                              Village of the Damned   \n",
       "...                                              ...   \n",
       "10820                              The Hateful Eight   \n",
       "10821                       And Then There Were None   \n",
       "10822  The Jinx: The Life and Deaths of Robert Durst   \n",
       "10823                                Childhood's End   \n",
       "10824                                 Show Me a Hero   \n",
       "\n",
       "                                                    cast  \\\n",
       "0      Jackie Joseph|Mel Welles|Jack Nicholson|Leola ...   \n",
       "1      Jerry Lewis|Alex Gerry|Bob Clayton|Sonnie Sand...   \n",
       "2      Randolph Scott|Nancy Gates|Skip Homeier|Dyke J...   \n",
       "3      Christopher Lee|Dennis Lotis|Patricia Jessel|T...   \n",
       "4      George Sanders|Barbara Shelley|Martin Stephens...   \n",
       "...                                                  ...   \n",
       "10820  Samuel L. Jackson|Kurt Russell|Jennifer Jason ...   \n",
       "10821  Maeve Dermody|Aidan Turner|Charles Dance|Dougl...   \n",
       "10822  Robert Durst|Andrew Jarecki|Marc Smerling|Zach...   \n",
       "10823  Mike Vogel|Osy Ikhile|Daisy Betts|Georgina Hai...   \n",
       "10824  Oscar Isaac|Alfred Molina|Winona Ryder|Catheri...   \n",
       "\n",
       "                                       homepage              director  \\\n",
       "0                                           NaN          Roger Corman   \n",
       "1                                           NaN           Jerry Lewis   \n",
       "2                                           NaN       Budd Boetticher   \n",
       "3                                           NaN  John Llewellyn Moxey   \n",
       "4                                           NaN            Wolf Rilla   \n",
       "...                                         ...                   ...   \n",
       "10820               http://thehatefuleight.com/     Quentin Tarantino   \n",
       "10821  http://www.bbc.co.uk/programmes/b06v2v52        Craig Viveiros   \n",
       "10822                                       NaN        Andrew Jarecki   \n",
       "10823                                       NaN           Nick Hurran   \n",
       "10824                                       NaN           Paul Haggis   \n",
       "\n",
       "                                                 tagline  ...  \\\n",
       "0                      The funniest picture of the year!  ...   \n",
       "1      It's a Series of Silly Sequences and One of Je...  ...   \n",
       "2               The One-Man War Against The Comancheros!  ...   \n",
       "3      300 years old! Human blood keeps them alive fo...  ...   \n",
       "4            What Demonic Force Lurks Behind Those Eyes?  ...   \n",
       "...                                                  ...  ...   \n",
       "10820   No one comes up here without a damn good reason.  ...   \n",
       "10821                 Agatha Christie's darkest thriller  ...   \n",
       "10822  Four Decades. Three Murders. And One Very Rich...  ...   \n",
       "10823                                                NaN  ...   \n",
       "10824  How does a politician know he's doing the righ...  ...   \n",
       "\n",
       "                                                overview runtime  \\\n",
       "0      Black comedy about a young man who creates a c...      70   \n",
       "1      Stanley is a bellboy at the Fountainbleau Hote...      72   \n",
       "2      A man saves a woman who had been kidnapped by ...      73   \n",
       "3      A young coed (Nan Barlow) uses her winter vaca...      76   \n",
       "4      In a small English village everyone suddenly f...      77   \n",
       "...                                                  ...     ...   \n",
       "10820  Bounty hunters seek shelter from a raging bliz...     167   \n",
       "10821  Ten strangers, drawn away from their normal li...     168   \n",
       "10822  Robert Durst, scion of one of New Yorkâ€™s bil...     240   \n",
       "10823  After peaceful aliens invade earth, humanity f...     246   \n",
       "10824  Mayor Nick Wasicsko took office in 1987 during...     300   \n",
       "\n",
       "                                        genres  \\\n",
       "0                                       Comedy   \n",
       "1                                Comedy|Family   \n",
       "2                               Action|Western   \n",
       "3                                       Horror   \n",
       "4                       Horror|Science Fiction   \n",
       "...                                        ...   \n",
       "10820              Crime|Drama|Mystery|Western   \n",
       "10821                            Mystery|Drama   \n",
       "10822                              Documentary   \n",
       "10823  Thriller|TV Movie|Science Fiction|Drama   \n",
       "10824                      History|Crime|Drama   \n",
       "\n",
       "                                    production_companies release_date  \\\n",
       "0                                Santa Clara Productions      9/14/60   \n",
       "1             Paramount Pictures|Jerry Lewis Productions      7/20/60   \n",
       "2      Columbia Pictures Corporation|Ranown Pictures ...       3/1/60   \n",
       "3                                Vulcan Productions Inc.       9/9/60   \n",
       "4                              Metro-Goldwyn-Mayer (MGM)       7/1/60   \n",
       "...                                                  ...          ...   \n",
       "10820  Double Feature Films|The Weinstein Company|Fil...     12/25/15   \n",
       "10821  British Broadcasting Corporation (BBC)|Mammoth...     12/26/15   \n",
       "10822  Blumhouse Productions|Hit the Ground Running F...       2/8/15   \n",
       "10823                                                NaN     12/14/15   \n",
       "10824                                                NaN      8/16/15   \n",
       "\n",
       "      vote_count  vote_average  release_year    budget_adj   revenue_adj  \n",
       "0             23           6.0          1960  2.211890e+05  0.000000e+00  \n",
       "1             12           7.0          1960  0.000000e+00  7.372967e+07  \n",
       "2             12           6.5          1960  0.000000e+00  0.000000e+00  \n",
       "3             13           6.1          1960  0.000000e+00  0.000000e+00  \n",
       "4             28           7.0          1960  1.474593e+06  0.000000e+00  \n",
       "...          ...           ...           ...           ...           ...  \n",
       "10820       2389           7.4          2015  4.047998e+07  1.432992e+08  \n",
       "10821         37           7.7          2015  0.000000e+00  0.000000e+00  \n",
       "10822         72           8.4          2015  0.000000e+00  0.000000e+00  \n",
       "10823         21           6.2          2015  0.000000e+00  0.000000e+00  \n",
       "10824         32           7.7          2015  0.000000e+00  0.000000e+00  \n",
       "\n",
       "[10825 rows x 21 columns]"
      ]
     },
     "execution_count": 41,
     "metadata": {},
     "output_type": "execute_result"
    }
   ],
   "source": [
    "# View the data object\n",
    "my_data"
   ]
  },
  {
   "cell_type": "code",
   "execution_count": 42,
   "metadata": {},
   "outputs": [
    {
     "data": {
      "text/html": [
       "<div>\n",
       "<style scoped>\n",
       "    .dataframe tbody tr th:only-of-type {\n",
       "        vertical-align: middle;\n",
       "    }\n",
       "\n",
       "    .dataframe tbody tr th {\n",
       "        vertical-align: top;\n",
       "    }\n",
       "\n",
       "    .dataframe thead th {\n",
       "        text-align: right;\n",
       "    }\n",
       "</style>\n",
       "<table border=\"1\" class=\"dataframe\">\n",
       "  <thead>\n",
       "    <tr style=\"text-align: right;\">\n",
       "      <th></th>\n",
       "      <th>id</th>\n",
       "      <th>imdb_id</th>\n",
       "      <th>popularity</th>\n",
       "      <th>budget</th>\n",
       "      <th>revenue</th>\n",
       "      <th>original_title</th>\n",
       "      <th>cast</th>\n",
       "      <th>homepage</th>\n",
       "      <th>director</th>\n",
       "      <th>tagline</th>\n",
       "      <th>...</th>\n",
       "      <th>overview</th>\n",
       "      <th>runtime</th>\n",
       "      <th>genres</th>\n",
       "      <th>production_companies</th>\n",
       "      <th>release_date</th>\n",
       "      <th>vote_count</th>\n",
       "      <th>vote_average</th>\n",
       "      <th>release_year</th>\n",
       "      <th>budget_adj</th>\n",
       "      <th>revenue_adj</th>\n",
       "    </tr>\n",
       "  </thead>\n",
       "  <tbody>\n",
       "    <tr>\n",
       "      <th>0</th>\n",
       "      <td>24452</td>\n",
       "      <td>tt0054033</td>\n",
       "      <td>0.225218</td>\n",
       "      <td>30000</td>\n",
       "      <td>0</td>\n",
       "      <td>The Little Shop of Horrors</td>\n",
       "      <td>Jackie Joseph|Mel Welles|Jack Nicholson|Leola ...</td>\n",
       "      <td>NaN</td>\n",
       "      <td>Roger Corman</td>\n",
       "      <td>The funniest picture of the year!</td>\n",
       "      <td>...</td>\n",
       "      <td>Black comedy about a young man who creates a c...</td>\n",
       "      <td>70</td>\n",
       "      <td>Comedy</td>\n",
       "      <td>Santa Clara Productions</td>\n",
       "      <td>9/14/60</td>\n",
       "      <td>23</td>\n",
       "      <td>6.0</td>\n",
       "      <td>1960</td>\n",
       "      <td>2.211890e+05</td>\n",
       "      <td>0.000000e+00</td>\n",
       "    </tr>\n",
       "    <tr>\n",
       "      <th>1</th>\n",
       "      <td>15788</td>\n",
       "      <td>tt0053644</td>\n",
       "      <td>0.114188</td>\n",
       "      <td>0</td>\n",
       "      <td>10000000</td>\n",
       "      <td>The Bellboy</td>\n",
       "      <td>Jerry Lewis|Alex Gerry|Bob Clayton|Sonnie Sand...</td>\n",
       "      <td>NaN</td>\n",
       "      <td>Jerry Lewis</td>\n",
       "      <td>It's a Series of Silly Sequences and One of Je...</td>\n",
       "      <td>...</td>\n",
       "      <td>Stanley is a bellboy at the Fountainbleau Hote...</td>\n",
       "      <td>72</td>\n",
       "      <td>Comedy|Family</td>\n",
       "      <td>Paramount Pictures|Jerry Lewis Productions</td>\n",
       "      <td>7/20/60</td>\n",
       "      <td>12</td>\n",
       "      <td>7.0</td>\n",
       "      <td>1960</td>\n",
       "      <td>0.000000e+00</td>\n",
       "      <td>7.372967e+07</td>\n",
       "    </tr>\n",
       "    <tr>\n",
       "      <th>2</th>\n",
       "      <td>1673</td>\n",
       "      <td>tt0053729</td>\n",
       "      <td>0.267118</td>\n",
       "      <td>0</td>\n",
       "      <td>0</td>\n",
       "      <td>Comanche Station</td>\n",
       "      <td>Randolph Scott|Nancy Gates|Skip Homeier|Dyke J...</td>\n",
       "      <td>NaN</td>\n",
       "      <td>Budd Boetticher</td>\n",
       "      <td>The One-Man War Against The Comancheros!</td>\n",
       "      <td>...</td>\n",
       "      <td>A man saves a woman who had been kidnapped by ...</td>\n",
       "      <td>73</td>\n",
       "      <td>Action|Western</td>\n",
       "      <td>Columbia Pictures Corporation|Ranown Pictures ...</td>\n",
       "      <td>3/1/60</td>\n",
       "      <td>12</td>\n",
       "      <td>6.5</td>\n",
       "      <td>1960</td>\n",
       "      <td>0.000000e+00</td>\n",
       "      <td>0.000000e+00</td>\n",
       "    </tr>\n",
       "    <tr>\n",
       "      <th>3</th>\n",
       "      <td>39890</td>\n",
       "      <td>tt0053719</td>\n",
       "      <td>0.065808</td>\n",
       "      <td>0</td>\n",
       "      <td>0</td>\n",
       "      <td>The City of the Dead</td>\n",
       "      <td>Christopher Lee|Dennis Lotis|Patricia Jessel|T...</td>\n",
       "      <td>NaN</td>\n",
       "      <td>John Llewellyn Moxey</td>\n",
       "      <td>300 years old! Human blood keeps them alive fo...</td>\n",
       "      <td>...</td>\n",
       "      <td>A young coed (Nan Barlow) uses her winter vaca...</td>\n",
       "      <td>76</td>\n",
       "      <td>Horror</td>\n",
       "      <td>Vulcan Productions Inc.</td>\n",
       "      <td>9/9/60</td>\n",
       "      <td>13</td>\n",
       "      <td>6.1</td>\n",
       "      <td>1960</td>\n",
       "      <td>0.000000e+00</td>\n",
       "      <td>0.000000e+00</td>\n",
       "    </tr>\n",
       "    <tr>\n",
       "      <th>4</th>\n",
       "      <td>11773</td>\n",
       "      <td>tt0054443</td>\n",
       "      <td>0.127219</td>\n",
       "      <td>200000</td>\n",
       "      <td>0</td>\n",
       "      <td>Village of the Damned</td>\n",
       "      <td>George Sanders|Barbara Shelley|Martin Stephens...</td>\n",
       "      <td>NaN</td>\n",
       "      <td>Wolf Rilla</td>\n",
       "      <td>What Demonic Force Lurks Behind Those Eyes?</td>\n",
       "      <td>...</td>\n",
       "      <td>In a small English village everyone suddenly f...</td>\n",
       "      <td>77</td>\n",
       "      <td>Horror|Science Fiction</td>\n",
       "      <td>Metro-Goldwyn-Mayer (MGM)</td>\n",
       "      <td>7/1/60</td>\n",
       "      <td>28</td>\n",
       "      <td>7.0</td>\n",
       "      <td>1960</td>\n",
       "      <td>1.474593e+06</td>\n",
       "      <td>0.000000e+00</td>\n",
       "    </tr>\n",
       "  </tbody>\n",
       "</table>\n",
       "<p>5 rows × 21 columns</p>\n",
       "</div>"
      ],
      "text/plain": [
       "      id    imdb_id  popularity  budget   revenue              original_title  \\\n",
       "0  24452  tt0054033    0.225218   30000         0  The Little Shop of Horrors   \n",
       "1  15788  tt0053644    0.114188       0  10000000                 The Bellboy   \n",
       "2   1673  tt0053729    0.267118       0         0            Comanche Station   \n",
       "3  39890  tt0053719    0.065808       0         0        The City of the Dead   \n",
       "4  11773  tt0054443    0.127219  200000         0       Village of the Damned   \n",
       "\n",
       "                                                cast homepage  \\\n",
       "0  Jackie Joseph|Mel Welles|Jack Nicholson|Leola ...      NaN   \n",
       "1  Jerry Lewis|Alex Gerry|Bob Clayton|Sonnie Sand...      NaN   \n",
       "2  Randolph Scott|Nancy Gates|Skip Homeier|Dyke J...      NaN   \n",
       "3  Christopher Lee|Dennis Lotis|Patricia Jessel|T...      NaN   \n",
       "4  George Sanders|Barbara Shelley|Martin Stephens...      NaN   \n",
       "\n",
       "               director                                            tagline  \\\n",
       "0          Roger Corman                  The funniest picture of the year!   \n",
       "1           Jerry Lewis  It's a Series of Silly Sequences and One of Je...   \n",
       "2       Budd Boetticher           The One-Man War Against The Comancheros!   \n",
       "3  John Llewellyn Moxey  300 years old! Human blood keeps them alive fo...   \n",
       "4            Wolf Rilla        What Demonic Force Lurks Behind Those Eyes?   \n",
       "\n",
       "   ...                                           overview runtime  \\\n",
       "0  ...  Black comedy about a young man who creates a c...      70   \n",
       "1  ...  Stanley is a bellboy at the Fountainbleau Hote...      72   \n",
       "2  ...  A man saves a woman who had been kidnapped by ...      73   \n",
       "3  ...  A young coed (Nan Barlow) uses her winter vaca...      76   \n",
       "4  ...  In a small English village everyone suddenly f...      77   \n",
       "\n",
       "                   genres                               production_companies  \\\n",
       "0                  Comedy                            Santa Clara Productions   \n",
       "1           Comedy|Family         Paramount Pictures|Jerry Lewis Productions   \n",
       "2          Action|Western  Columbia Pictures Corporation|Ranown Pictures ...   \n",
       "3                  Horror                            Vulcan Productions Inc.   \n",
       "4  Horror|Science Fiction                          Metro-Goldwyn-Mayer (MGM)   \n",
       "\n",
       "  release_date vote_count  vote_average  release_year    budget_adj  \\\n",
       "0      9/14/60         23           6.0          1960  2.211890e+05   \n",
       "1      7/20/60         12           7.0          1960  0.000000e+00   \n",
       "2       3/1/60         12           6.5          1960  0.000000e+00   \n",
       "3       9/9/60         13           6.1          1960  0.000000e+00   \n",
       "4       7/1/60         28           7.0          1960  1.474593e+06   \n",
       "\n",
       "    revenue_adj  \n",
       "0  0.000000e+00  \n",
       "1  7.372967e+07  \n",
       "2  0.000000e+00  \n",
       "3  0.000000e+00  \n",
       "4  0.000000e+00  \n",
       "\n",
       "[5 rows x 21 columns]"
      ]
     },
     "execution_count": 42,
     "metadata": {},
     "output_type": "execute_result"
    }
   ],
   "source": [
    "# View the first few lines\n",
    "my_data.head()"
   ]
  },
  {
   "cell_type": "code",
   "execution_count": 43,
   "metadata": {},
   "outputs": [
    {
     "data": {
      "text/plain": [
       "pandas.core.frame.DataFrame"
      ]
     },
     "execution_count": 43,
     "metadata": {},
     "output_type": "execute_result"
    }
   ],
   "source": [
    "# View object type\n",
    "type(my_data)"
   ]
  },
  {
   "cell_type": "code",
   "execution_count": 44,
   "metadata": {},
   "outputs": [
    {
     "data": {
      "text/plain": [
       "(10825, 21)"
      ]
     },
     "execution_count": 44,
     "metadata": {},
     "output_type": "execute_result"
    }
   ],
   "source": [
    "# View shape (dimensions)\n",
    "my_data.shape"
   ]
  },
  {
   "cell_type": "code",
   "execution_count": 45,
   "metadata": {},
   "outputs": [
    {
     "data": {
      "text/plain": [
       "id                        int64\n",
       "imdb_id                  object\n",
       "popularity              float64\n",
       "budget                    int64\n",
       "revenue                   int64\n",
       "original_title           object\n",
       "cast                     object\n",
       "homepage                 object\n",
       "director                 object\n",
       "tagline                  object\n",
       "keywords                 object\n",
       "overview                 object\n",
       "runtime                   int64\n",
       "genres                   object\n",
       "production_companies     object\n",
       "release_date             object\n",
       "vote_count                int64\n",
       "vote_average            float64\n",
       "release_year              int64\n",
       "budget_adj              float64\n",
       "revenue_adj             float64\n",
       "dtype: object"
      ]
     },
     "execution_count": 45,
     "metadata": {},
     "output_type": "execute_result"
    }
   ],
   "source": [
    "# View data types\n",
    "my_data.dtypes\n",
    "# All the values in a single column have the same type.\n",
    "# Some columns cannot contain fractional values\n",
    "# The object type represents strings"
   ]
  },
  {
   "cell_type": "code",
   "execution_count": 46,
   "metadata": {},
   "outputs": [
    {
     "name": "stdout",
     "output_type": "stream",
     "text": [
      "<class 'pandas.core.frame.DataFrame'>\n",
      "RangeIndex: 10825 entries, 0 to 10824\n",
      "Data columns (total 21 columns):\n",
      " #   Column                Non-Null Count  Dtype  \n",
      "---  ------                --------------  -----  \n",
      " 0   id                    10825 non-null  int64  \n",
      " 1   imdb_id               10815 non-null  object \n",
      " 2   popularity            10825 non-null  float64\n",
      " 3   budget                10825 non-null  int64  \n",
      " 4   revenue               10825 non-null  int64  \n",
      " 5   original_title        10825 non-null  object \n",
      " 6   cast                  10749 non-null  object \n",
      " 7   homepage              2923 non-null   object \n",
      " 8   director              10781 non-null  object \n",
      " 9   tagline               8012 non-null   object \n",
      " 10  keywords              9338 non-null   object \n",
      " 11  overview              10821 non-null  object \n",
      " 12  runtime               10825 non-null  int64  \n",
      " 13  genres                10802 non-null  object \n",
      " 14  production_companies  9804 non-null   object \n",
      " 15  release_date          10825 non-null  object \n",
      " 16  vote_count            10825 non-null  int64  \n",
      " 17  vote_average          10825 non-null  float64\n",
      " 18  release_year          10825 non-null  int64  \n",
      " 19  budget_adj            10825 non-null  float64\n",
      " 20  revenue_adj           10825 non-null  float64\n",
      "dtypes: float64(4), int64(6), object(11)\n",
      "memory usage: 1.7+ MB\n"
     ]
    }
   ],
   "source": [
    "# View info\n",
    "my_data.info()"
   ]
  },
  {
   "cell_type": "code",
   "execution_count": null,
   "metadata": {},
   "outputs": [],
   "source": [
    "# Calculate summary statistics for all numeric columns\n",
    "my_data['original_title']"
   ]
  },
  {
   "cell_type": "code",
   "execution_count": null,
   "metadata": {},
   "outputs": [],
   "source": [
    "my_data[my_data['original_title']=='The Bellboy']['original_title'].count()"
   ]
  },
  {
   "cell_type": "markdown",
   "metadata": {},
   "source": [
    "There are many ways to summarize and access the data stored in DataFrames, using attributes and methods provided by the DataFrame object.\n",
    "\n",
    "Attributes are features of an object.\n",
    "\n",
    "Methods are like functions, but they only work on particular kinds of objects. With a method, we can supply extra information in the parentheses to control behaviour."
   ]
  },
  {
   "cell_type": "markdown",
   "metadata": {},
   "source": [
    "---------------------------------\n",
    "# CHALLENGE 3\n",
    "---------------------------------"
   ]
  },
  {
   "cell_type": "markdown",
   "metadata": {},
   "source": [
    "Let’s perform some quick summary statistics to learn more about the data that we’re working with."
   ]
  },
  {
   "cell_type": "code",
   "execution_count": 47,
   "metadata": {},
   "outputs": [
    {
     "data": {
      "text/plain": [
       "Index(['id', 'imdb_id', 'popularity', 'budget', 'revenue', 'original_title',\n",
       "       'cast', 'homepage', 'director', 'tagline', 'keywords', 'overview',\n",
       "       'runtime', 'genres', 'production_companies', 'release_date',\n",
       "       'vote_count', 'vote_average', 'release_year', 'budget_adj',\n",
       "       'revenue_adj'],\n",
       "      dtype='object')"
      ]
     },
     "execution_count": 47,
     "metadata": {},
     "output_type": "execute_result"
    }
   ],
   "source": [
    "# View columns\n",
    "my_data.columns"
   ]
  },
  {
   "cell_type": "code",
   "execution_count": 59,
   "metadata": {},
   "outputs": [
    {
     "data": {
      "text/plain": [
       "0                Roger Corman\n",
       "1                 Jerry Lewis\n",
       "2             Budd Boetticher\n",
       "3        John Llewellyn Moxey\n",
       "4                  Wolf Rilla\n",
       "                 ...         \n",
       "10820       Quentin Tarantino\n",
       "10821          Craig Viveiros\n",
       "10822          Andrew Jarecki\n",
       "10823             Nick Hurran\n",
       "10824             Paul Haggis\n",
       "Name: director, Length: 10825, dtype: object"
      ]
     },
     "execution_count": 59,
     "metadata": {},
     "output_type": "execute_result"
    }
   ],
   "source": [
    "my_data['director']\n"
   ]
  },
  {
   "cell_type": "code",
   "execution_count": 58,
   "metadata": {},
   "outputs": [
    {
     "data": {
      "text/plain": [
       "array(['Roger Corman', 'Jerry Lewis', 'Budd Boetticher', ...,\n",
       "       'Brett Morgen', 'Charles de Lauzirika', 'Karan Malhotra'],\n",
       "      dtype=object)"
      ]
     },
     "execution_count": 58,
     "metadata": {},
     "output_type": "execute_result"
    }
   ],
   "source": [
    "# View unique directors\n",
    "\n",
    "# Option 1\n",
    "pd.unique(my_data['director'])"
   ]
  },
  {
   "cell_type": "code",
   "execution_count": 60,
   "metadata": {},
   "outputs": [
    {
     "name": "stdout",
     "output_type": "stream",
     "text": [
      "5051\n"
     ]
    }
   ],
   "source": [
    "# Option 2\n",
    "director_names = my_data['director']\n",
    "unique_directors = pd.unique(director_names)\n",
    "number_unique_directors = len(unique_directors)\n",
    "print(number_unique_directors)"
   ]
  },
  {
   "cell_type": "markdown",
   "metadata": {},
   "source": [
    "---------------------------------\n",
    "# CHALLENGE 4\n",
    "---------------------------------"
   ]
  },
  {
   "cell_type": "markdown",
   "metadata": {},
   "source": [
    "------------------------------------------------------\n",
    "# SLIDES\n",
    "------------------------------------------------------"
   ]
  },
  {
   "cell_type": "markdown",
   "metadata": {},
   "source": [
    "## Groups in Pandas"
   ]
  },
  {
   "cell_type": "markdown",
   "metadata": {},
   "source": [
    "We often want to calculate summary statistics grouped by subsets or attributes within fields of our data.\n",
    "\n",
    "We can calculate basic statistics for all records in a single column using the syntax below:"
   ]
  },
  {
   "cell_type": "code",
   "execution_count": null,
   "metadata": {},
   "outputs": [],
   "source": [
    "my_data['revenue'].describe()"
   ]
  },
  {
   "cell_type": "markdown",
   "metadata": {},
   "source": [
    "We can also extract one specific metric if we wish:"
   ]
  },
  {
   "cell_type": "code",
   "execution_count": null,
   "metadata": {},
   "outputs": [],
   "source": [
    "my_data['revenue'].min()\n",
    "my_data['revenue'].max()\n",
    "my_data['revenue'].mean()\n",
    "my_data['revenue'].std()\n",
    "my_data['revenue'].count()"
   ]
  },
  {
   "cell_type": "markdown",
   "metadata": {},
   "source": [
    "But if we want to summarize by one or more variables, we can use Pandas’ `.groupby` method."
   ]
  },
  {
   "cell_type": "code",
   "execution_count": 61,
   "metadata": {},
   "outputs": [],
   "source": [
    "# Group data by director\n",
    "grouped_data = my_data.groupby('director')"
   ]
  },
  {
   "cell_type": "code",
   "execution_count": 63,
   "metadata": {},
   "outputs": [
    {
     "data": {
      "text/html": [
       "<div>\n",
       "<style scoped>\n",
       "    .dataframe tbody tr th:only-of-type {\n",
       "        vertical-align: middle;\n",
       "    }\n",
       "\n",
       "    .dataframe tbody tr th {\n",
       "        vertical-align: top;\n",
       "    }\n",
       "\n",
       "    .dataframe thead tr th {\n",
       "        text-align: left;\n",
       "    }\n",
       "\n",
       "    .dataframe thead tr:last-of-type th {\n",
       "        text-align: right;\n",
       "    }\n",
       "</style>\n",
       "<table border=\"1\" class=\"dataframe\">\n",
       "  <thead>\n",
       "    <tr>\n",
       "      <th></th>\n",
       "      <th colspan=\"8\" halign=\"left\">id</th>\n",
       "      <th colspan=\"2\" halign=\"left\">popularity</th>\n",
       "      <th>...</th>\n",
       "      <th colspan=\"2\" halign=\"left\">budget_adj</th>\n",
       "      <th colspan=\"8\" halign=\"left\">revenue_adj</th>\n",
       "    </tr>\n",
       "    <tr>\n",
       "      <th></th>\n",
       "      <th>count</th>\n",
       "      <th>mean</th>\n",
       "      <th>std</th>\n",
       "      <th>min</th>\n",
       "      <th>25%</th>\n",
       "      <th>50%</th>\n",
       "      <th>75%</th>\n",
       "      <th>max</th>\n",
       "      <th>count</th>\n",
       "      <th>mean</th>\n",
       "      <th>...</th>\n",
       "      <th>75%</th>\n",
       "      <th>max</th>\n",
       "      <th>count</th>\n",
       "      <th>mean</th>\n",
       "      <th>std</th>\n",
       "      <th>min</th>\n",
       "      <th>25%</th>\n",
       "      <th>50%</th>\n",
       "      <th>75%</th>\n",
       "      <th>max</th>\n",
       "    </tr>\n",
       "    <tr>\n",
       "      <th>director</th>\n",
       "      <th></th>\n",
       "      <th></th>\n",
       "      <th></th>\n",
       "      <th></th>\n",
       "      <th></th>\n",
       "      <th></th>\n",
       "      <th></th>\n",
       "      <th></th>\n",
       "      <th></th>\n",
       "      <th></th>\n",
       "      <th></th>\n",
       "      <th></th>\n",
       "      <th></th>\n",
       "      <th></th>\n",
       "      <th></th>\n",
       "      <th></th>\n",
       "      <th></th>\n",
       "      <th></th>\n",
       "      <th></th>\n",
       "      <th></th>\n",
       "      <th></th>\n",
       "    </tr>\n",
       "  </thead>\n",
       "  <tbody>\n",
       "    <tr>\n",
       "      <th>FrÃ©dÃ©ric Jardin</th>\n",
       "      <td>1.0</td>\n",
       "      <td>79070.000000</td>\n",
       "      <td>NaN</td>\n",
       "      <td>79070.0</td>\n",
       "      <td>79070.0</td>\n",
       "      <td>79070.0</td>\n",
       "      <td>79070.0</td>\n",
       "      <td>79070.0</td>\n",
       "      <td>1.0</td>\n",
       "      <td>0.434506</td>\n",
       "      <td>...</td>\n",
       "      <td>2.423495e+06</td>\n",
       "      <td>2.423495e+06</td>\n",
       "      <td>1.0</td>\n",
       "      <td>3.255239e+03</td>\n",
       "      <td>NaN</td>\n",
       "      <td>3.255239e+03</td>\n",
       "      <td>3.255239e+03</td>\n",
       "      <td>3.255239e+03</td>\n",
       "      <td>3.255239e+03</td>\n",
       "      <td>3.255239e+03</td>\n",
       "    </tr>\n",
       "    <tr>\n",
       "      <th>A. Todd Smith</th>\n",
       "      <td>1.0</td>\n",
       "      <td>370687.000000</td>\n",
       "      <td>NaN</td>\n",
       "      <td>370687.0</td>\n",
       "      <td>370687.0</td>\n",
       "      <td>370687.0</td>\n",
       "      <td>370687.0</td>\n",
       "      <td>370687.0</td>\n",
       "      <td>1.0</td>\n",
       "      <td>1.876037</td>\n",
       "      <td>...</td>\n",
       "      <td>0.000000e+00</td>\n",
       "      <td>0.000000e+00</td>\n",
       "      <td>1.0</td>\n",
       "      <td>0.000000e+00</td>\n",
       "      <td>NaN</td>\n",
       "      <td>0.000000e+00</td>\n",
       "      <td>0.000000e+00</td>\n",
       "      <td>0.000000e+00</td>\n",
       "      <td>0.000000e+00</td>\n",
       "      <td>0.000000e+00</td>\n",
       "    </tr>\n",
       "    <tr>\n",
       "      <th>A.R. Murugadoss</th>\n",
       "      <td>1.0</td>\n",
       "      <td>14070.000000</td>\n",
       "      <td>NaN</td>\n",
       "      <td>14070.0</td>\n",
       "      <td>14070.0</td>\n",
       "      <td>14070.0</td>\n",
       "      <td>14070.0</td>\n",
       "      <td>14070.0</td>\n",
       "      <td>1.0</td>\n",
       "      <td>0.215030</td>\n",
       "      <td>...</td>\n",
       "      <td>9.216358e+06</td>\n",
       "      <td>9.216358e+06</td>\n",
       "      <td>1.0</td>\n",
       "      <td>7.697178e+07</td>\n",
       "      <td>NaN</td>\n",
       "      <td>7.697178e+07</td>\n",
       "      <td>7.697178e+07</td>\n",
       "      <td>7.697178e+07</td>\n",
       "      <td>7.697178e+07</td>\n",
       "      <td>7.697178e+07</td>\n",
       "    </tr>\n",
       "    <tr>\n",
       "      <th>Aaron Aites</th>\n",
       "      <td>1.0</td>\n",
       "      <td>36124.000000</td>\n",
       "      <td>NaN</td>\n",
       "      <td>36124.0</td>\n",
       "      <td>36124.0</td>\n",
       "      <td>36124.0</td>\n",
       "      <td>36124.0</td>\n",
       "      <td>36124.0</td>\n",
       "      <td>1.0</td>\n",
       "      <td>0.108700</td>\n",
       "      <td>...</td>\n",
       "      <td>0.000000e+00</td>\n",
       "      <td>0.000000e+00</td>\n",
       "      <td>1.0</td>\n",
       "      <td>0.000000e+00</td>\n",
       "      <td>NaN</td>\n",
       "      <td>0.000000e+00</td>\n",
       "      <td>0.000000e+00</td>\n",
       "      <td>0.000000e+00</td>\n",
       "      <td>0.000000e+00</td>\n",
       "      <td>0.000000e+00</td>\n",
       "    </tr>\n",
       "    <tr>\n",
       "      <th>Aaron Blaise|Robert Walker</th>\n",
       "      <td>1.0</td>\n",
       "      <td>10009.000000</td>\n",
       "      <td>NaN</td>\n",
       "      <td>10009.0</td>\n",
       "      <td>10009.0</td>\n",
       "      <td>10009.0</td>\n",
       "      <td>10009.0</td>\n",
       "      <td>10009.0</td>\n",
       "      <td>1.0</td>\n",
       "      <td>1.653031</td>\n",
       "      <td>...</td>\n",
       "      <td>1.185353e+08</td>\n",
       "      <td>1.185353e+08</td>\n",
       "      <td>1.0</td>\n",
       "      <td>2.963382e+02</td>\n",
       "      <td>NaN</td>\n",
       "      <td>2.963382e+02</td>\n",
       "      <td>2.963382e+02</td>\n",
       "      <td>2.963382e+02</td>\n",
       "      <td>2.963382e+02</td>\n",
       "      <td>2.963382e+02</td>\n",
       "    </tr>\n",
       "    <tr>\n",
       "      <th>...</th>\n",
       "      <td>...</td>\n",
       "      <td>...</td>\n",
       "      <td>...</td>\n",
       "      <td>...</td>\n",
       "      <td>...</td>\n",
       "      <td>...</td>\n",
       "      <td>...</td>\n",
       "      <td>...</td>\n",
       "      <td>...</td>\n",
       "      <td>...</td>\n",
       "      <td>...</td>\n",
       "      <td>...</td>\n",
       "      <td>...</td>\n",
       "      <td>...</td>\n",
       "      <td>...</td>\n",
       "      <td>...</td>\n",
       "      <td>...</td>\n",
       "      <td>...</td>\n",
       "      <td>...</td>\n",
       "      <td>...</td>\n",
       "      <td>...</td>\n",
       "    </tr>\n",
       "    <tr>\n",
       "      <th>Ã‡aÄŸan Irmak</th>\n",
       "      <td>1.0</td>\n",
       "      <td>13393.000000</td>\n",
       "      <td>NaN</td>\n",
       "      <td>13393.0</td>\n",
       "      <td>13393.0</td>\n",
       "      <td>13393.0</td>\n",
       "      <td>13393.0</td>\n",
       "      <td>13393.0</td>\n",
       "      <td>1.0</td>\n",
       "      <td>0.265008</td>\n",
       "      <td>...</td>\n",
       "      <td>0.000000e+00</td>\n",
       "      <td>0.000000e+00</td>\n",
       "      <td>1.0</td>\n",
       "      <td>0.000000e+00</td>\n",
       "      <td>NaN</td>\n",
       "      <td>0.000000e+00</td>\n",
       "      <td>0.000000e+00</td>\n",
       "      <td>0.000000e+00</td>\n",
       "      <td>0.000000e+00</td>\n",
       "      <td>0.000000e+00</td>\n",
       "    </tr>\n",
       "    <tr>\n",
       "      <th>Ã‰mile Gaudreault</th>\n",
       "      <td>1.0</td>\n",
       "      <td>321.000000</td>\n",
       "      <td>NaN</td>\n",
       "      <td>321.0</td>\n",
       "      <td>321.0</td>\n",
       "      <td>321.0</td>\n",
       "      <td>321.0</td>\n",
       "      <td>321.0</td>\n",
       "      <td>1.0</td>\n",
       "      <td>0.276911</td>\n",
       "      <td>...</td>\n",
       "      <td>5.170387e+06</td>\n",
       "      <td>5.170387e+06</td>\n",
       "      <td>1.0</td>\n",
       "      <td>3.593753e+06</td>\n",
       "      <td>NaN</td>\n",
       "      <td>3.593753e+06</td>\n",
       "      <td>3.593753e+06</td>\n",
       "      <td>3.593753e+06</td>\n",
       "      <td>3.593753e+06</td>\n",
       "      <td>3.593753e+06</td>\n",
       "    </tr>\n",
       "    <tr>\n",
       "      <th>Ã‰ric Besnard</th>\n",
       "      <td>1.0</td>\n",
       "      <td>52349.000000</td>\n",
       "      <td>NaN</td>\n",
       "      <td>52349.0</td>\n",
       "      <td>52349.0</td>\n",
       "      <td>52349.0</td>\n",
       "      <td>52349.0</td>\n",
       "      <td>52349.0</td>\n",
       "      <td>1.0</td>\n",
       "      <td>0.081724</td>\n",
       "      <td>...</td>\n",
       "      <td>0.000000e+00</td>\n",
       "      <td>0.000000e+00</td>\n",
       "      <td>1.0</td>\n",
       "      <td>0.000000e+00</td>\n",
       "      <td>NaN</td>\n",
       "      <td>0.000000e+00</td>\n",
       "      <td>0.000000e+00</td>\n",
       "      <td>0.000000e+00</td>\n",
       "      <td>0.000000e+00</td>\n",
       "      <td>0.000000e+00</td>\n",
       "    </tr>\n",
       "    <tr>\n",
       "      <th>Ã‰tienne Chatiliez</th>\n",
       "      <td>3.0</td>\n",
       "      <td>16637.333333</td>\n",
       "      <td>23387.627548</td>\n",
       "      <td>2029.0</td>\n",
       "      <td>3150.0</td>\n",
       "      <td>4271.0</td>\n",
       "      <td>23941.5</td>\n",
       "      <td>43612.0</td>\n",
       "      <td>3.0</td>\n",
       "      <td>0.102346</td>\n",
       "      <td>...</td>\n",
       "      <td>9.562436e+06</td>\n",
       "      <td>1.912487e+07</td>\n",
       "      <td>3.0</td>\n",
       "      <td>0.000000e+00</td>\n",
       "      <td>0.0</td>\n",
       "      <td>0.000000e+00</td>\n",
       "      <td>0.000000e+00</td>\n",
       "      <td>0.000000e+00</td>\n",
       "      <td>0.000000e+00</td>\n",
       "      <td>0.000000e+00</td>\n",
       "    </tr>\n",
       "    <tr>\n",
       "      <th>Ã€lex Pastor|David Pastor</th>\n",
       "      <td>1.0</td>\n",
       "      <td>25769.000000</td>\n",
       "      <td>NaN</td>\n",
       "      <td>25769.0</td>\n",
       "      <td>25769.0</td>\n",
       "      <td>25769.0</td>\n",
       "      <td>25769.0</td>\n",
       "      <td>25769.0</td>\n",
       "      <td>1.0</td>\n",
       "      <td>0.619369</td>\n",
       "      <td>...</td>\n",
       "      <td>0.000000e+00</td>\n",
       "      <td>0.000000e+00</td>\n",
       "      <td>1.0</td>\n",
       "      <td>5.897584e+06</td>\n",
       "      <td>NaN</td>\n",
       "      <td>5.897584e+06</td>\n",
       "      <td>5.897584e+06</td>\n",
       "      <td>5.897584e+06</td>\n",
       "      <td>5.897584e+06</td>\n",
       "      <td>5.897584e+06</td>\n",
       "    </tr>\n",
       "  </tbody>\n",
       "</table>\n",
       "<p>5050 rows × 80 columns</p>\n",
       "</div>"
      ],
      "text/plain": [
       "                              id                                         \\\n",
       "                           count           mean           std       min   \n",
       "director                                                                  \n",
       " FrÃ©dÃ©ric Jardin           1.0   79070.000000           NaN   79070.0   \n",
       "A. Todd Smith                1.0  370687.000000           NaN  370687.0   \n",
       "A.R. Murugadoss              1.0   14070.000000           NaN   14070.0   \n",
       "Aaron Aites                  1.0   36124.000000           NaN   36124.0   \n",
       "Aaron Blaise|Robert Walker   1.0   10009.000000           NaN   10009.0   \n",
       "...                          ...            ...           ...       ...   \n",
       "Ã‡aÄŸan Irmak                1.0   13393.000000           NaN   13393.0   \n",
       "Ã‰mile Gaudreault            1.0     321.000000           NaN     321.0   \n",
       "Ã‰ric Besnard                1.0   52349.000000           NaN   52349.0   \n",
       "Ã‰tienne Chatiliez           3.0   16637.333333  23387.627548    2029.0   \n",
       "Ã€lex Pastor|David Pastor    1.0   25769.000000           NaN   25769.0   \n",
       "\n",
       "                                                                   popularity  \\\n",
       "                                 25%       50%       75%       max      count   \n",
       "director                                                                        \n",
       " FrÃ©dÃ©ric Jardin           79070.0   79070.0   79070.0   79070.0        1.0   \n",
       "A. Todd Smith               370687.0  370687.0  370687.0  370687.0        1.0   \n",
       "A.R. Murugadoss              14070.0   14070.0   14070.0   14070.0        1.0   \n",
       "Aaron Aites                  36124.0   36124.0   36124.0   36124.0        1.0   \n",
       "Aaron Blaise|Robert Walker   10009.0   10009.0   10009.0   10009.0        1.0   \n",
       "...                              ...       ...       ...       ...        ...   \n",
       "Ã‡aÄŸan Irmak                13393.0   13393.0   13393.0   13393.0        1.0   \n",
       "Ã‰mile Gaudreault              321.0     321.0     321.0     321.0        1.0   \n",
       "Ã‰ric Besnard                52349.0   52349.0   52349.0   52349.0        1.0   \n",
       "Ã‰tienne Chatiliez            3150.0    4271.0   23941.5   43612.0        3.0   \n",
       "Ã€lex Pastor|David Pastor    25769.0   25769.0   25769.0   25769.0        1.0   \n",
       "\n",
       "                                      ...    budget_adj                \\\n",
       "                                mean  ...           75%           max   \n",
       "director                              ...                               \n",
       " FrÃ©dÃ©ric Jardin          0.434506  ...  2.423495e+06  2.423495e+06   \n",
       "A. Todd Smith               1.876037  ...  0.000000e+00  0.000000e+00   \n",
       "A.R. Murugadoss             0.215030  ...  9.216358e+06  9.216358e+06   \n",
       "Aaron Aites                 0.108700  ...  0.000000e+00  0.000000e+00   \n",
       "Aaron Blaise|Robert Walker  1.653031  ...  1.185353e+08  1.185353e+08   \n",
       "...                              ...  ...           ...           ...   \n",
       "Ã‡aÄŸan Irmak               0.265008  ...  0.000000e+00  0.000000e+00   \n",
       "Ã‰mile Gaudreault           0.276911  ...  5.170387e+06  5.170387e+06   \n",
       "Ã‰ric Besnard               0.081724  ...  0.000000e+00  0.000000e+00   \n",
       "Ã‰tienne Chatiliez          0.102346  ...  9.562436e+06  1.912487e+07   \n",
       "Ã€lex Pastor|David Pastor   0.619369  ...  0.000000e+00  0.000000e+00   \n",
       "\n",
       "                           revenue_adj                                   \\\n",
       "                                 count          mean  std           min   \n",
       "director                                                                  \n",
       " FrÃ©dÃ©ric Jardin                 1.0  3.255239e+03  NaN  3.255239e+03   \n",
       "A. Todd Smith                      1.0  0.000000e+00  NaN  0.000000e+00   \n",
       "A.R. Murugadoss                    1.0  7.697178e+07  NaN  7.697178e+07   \n",
       "Aaron Aites                        1.0  0.000000e+00  NaN  0.000000e+00   \n",
       "Aaron Blaise|Robert Walker         1.0  2.963382e+02  NaN  2.963382e+02   \n",
       "...                                ...           ...  ...           ...   \n",
       "Ã‡aÄŸan Irmak                      1.0  0.000000e+00  NaN  0.000000e+00   \n",
       "Ã‰mile Gaudreault                  1.0  3.593753e+06  NaN  3.593753e+06   \n",
       "Ã‰ric Besnard                      1.0  0.000000e+00  NaN  0.000000e+00   \n",
       "Ã‰tienne Chatiliez                 3.0  0.000000e+00  0.0  0.000000e+00   \n",
       "Ã€lex Pastor|David Pastor          1.0  5.897584e+06  NaN  5.897584e+06   \n",
       "\n",
       "                                                                      \\\n",
       "                                     25%           50%           75%   \n",
       "director                                                               \n",
       " FrÃ©dÃ©ric Jardin          3.255239e+03  3.255239e+03  3.255239e+03   \n",
       "A. Todd Smith               0.000000e+00  0.000000e+00  0.000000e+00   \n",
       "A.R. Murugadoss             7.697178e+07  7.697178e+07  7.697178e+07   \n",
       "Aaron Aites                 0.000000e+00  0.000000e+00  0.000000e+00   \n",
       "Aaron Blaise|Robert Walker  2.963382e+02  2.963382e+02  2.963382e+02   \n",
       "...                                  ...           ...           ...   \n",
       "Ã‡aÄŸan Irmak               0.000000e+00  0.000000e+00  0.000000e+00   \n",
       "Ã‰mile Gaudreault           3.593753e+06  3.593753e+06  3.593753e+06   \n",
       "Ã‰ric Besnard               0.000000e+00  0.000000e+00  0.000000e+00   \n",
       "Ã‰tienne Chatiliez          0.000000e+00  0.000000e+00  0.000000e+00   \n",
       "Ã€lex Pastor|David Pastor   5.897584e+06  5.897584e+06  5.897584e+06   \n",
       "\n",
       "                                          \n",
       "                                     max  \n",
       "director                                  \n",
       " FrÃ©dÃ©ric Jardin          3.255239e+03  \n",
       "A. Todd Smith               0.000000e+00  \n",
       "A.R. Murugadoss             7.697178e+07  \n",
       "Aaron Aites                 0.000000e+00  \n",
       "Aaron Blaise|Robert Walker  2.963382e+02  \n",
       "...                                  ...  \n",
       "Ã‡aÄŸan Irmak               0.000000e+00  \n",
       "Ã‰mile Gaudreault           3.593753e+06  \n",
       "Ã‰ric Besnard               0.000000e+00  \n",
       "Ã‰tienne Chatiliez          0.000000e+00  \n",
       "Ã€lex Pastor|David Pastor   5.897584e+06  \n",
       "\n",
       "[5050 rows x 80 columns]"
      ]
     },
     "execution_count": 63,
     "metadata": {},
     "output_type": "execute_result"
    }
   ],
   "source": [
    "# Summary statistics for all numeric columns by director\n",
    "grouped_data.describe()"
   ]
  },
  {
   "cell_type": "code",
   "execution_count": 64,
   "metadata": {},
   "outputs": [
    {
     "data": {
      "text/html": [
       "<div>\n",
       "<style scoped>\n",
       "    .dataframe tbody tr th:only-of-type {\n",
       "        vertical-align: middle;\n",
       "    }\n",
       "\n",
       "    .dataframe tbody tr th {\n",
       "        vertical-align: top;\n",
       "    }\n",
       "\n",
       "    .dataframe thead th {\n",
       "        text-align: right;\n",
       "    }\n",
       "</style>\n",
       "<table border=\"1\" class=\"dataframe\">\n",
       "  <thead>\n",
       "    <tr style=\"text-align: right;\">\n",
       "      <th></th>\n",
       "      <th>id</th>\n",
       "      <th>popularity</th>\n",
       "      <th>budget</th>\n",
       "      <th>revenue</th>\n",
       "      <th>runtime</th>\n",
       "      <th>vote_count</th>\n",
       "      <th>vote_average</th>\n",
       "      <th>release_year</th>\n",
       "      <th>budget_adj</th>\n",
       "      <th>revenue_adj</th>\n",
       "    </tr>\n",
       "    <tr>\n",
       "      <th>director</th>\n",
       "      <th></th>\n",
       "      <th></th>\n",
       "      <th></th>\n",
       "      <th></th>\n",
       "      <th></th>\n",
       "      <th></th>\n",
       "      <th></th>\n",
       "      <th></th>\n",
       "      <th></th>\n",
       "      <th></th>\n",
       "    </tr>\n",
       "  </thead>\n",
       "  <tbody>\n",
       "    <tr>\n",
       "      <th>FrÃ©dÃ©ric Jardin</th>\n",
       "      <td>79070.000000</td>\n",
       "      <td>0.434506</td>\n",
       "      <td>2500000.0</td>\n",
       "      <td>3358.0</td>\n",
       "      <td>98.000000</td>\n",
       "      <td>28.000000</td>\n",
       "      <td>5.9</td>\n",
       "      <td>2011.000000</td>\n",
       "      <td>2.423495e+06</td>\n",
       "      <td>3.255239e+03</td>\n",
       "    </tr>\n",
       "    <tr>\n",
       "      <th>A. Todd Smith</th>\n",
       "      <td>370687.000000</td>\n",
       "      <td>1.876037</td>\n",
       "      <td>0.0</td>\n",
       "      <td>0.0</td>\n",
       "      <td>0.000000</td>\n",
       "      <td>11.000000</td>\n",
       "      <td>5.4</td>\n",
       "      <td>2015.000000</td>\n",
       "      <td>0.000000e+00</td>\n",
       "      <td>0.000000e+00</td>\n",
       "    </tr>\n",
       "    <tr>\n",
       "      <th>A.R. Murugadoss</th>\n",
       "      <td>14070.000000</td>\n",
       "      <td>0.215030</td>\n",
       "      <td>9100000.0</td>\n",
       "      <td>76000000.0</td>\n",
       "      <td>183.000000</td>\n",
       "      <td>53.000000</td>\n",
       "      <td>6.9</td>\n",
       "      <td>2008.000000</td>\n",
       "      <td>9.216358e+06</td>\n",
       "      <td>7.697178e+07</td>\n",
       "    </tr>\n",
       "    <tr>\n",
       "      <th>Aaron Aites</th>\n",
       "      <td>36124.000000</td>\n",
       "      <td>0.108700</td>\n",
       "      <td>0.0</td>\n",
       "      <td>0.0</td>\n",
       "      <td>93.000000</td>\n",
       "      <td>13.000000</td>\n",
       "      <td>6.5</td>\n",
       "      <td>2008.000000</td>\n",
       "      <td>0.000000e+00</td>\n",
       "      <td>0.000000e+00</td>\n",
       "    </tr>\n",
       "    <tr>\n",
       "      <th>Aaron Blaise|Robert Walker</th>\n",
       "      <td>10009.000000</td>\n",
       "      <td>1.653031</td>\n",
       "      <td>100000000.0</td>\n",
       "      <td>250.0</td>\n",
       "      <td>85.000000</td>\n",
       "      <td>753.000000</td>\n",
       "      <td>6.8</td>\n",
       "      <td>2003.000000</td>\n",
       "      <td>1.185353e+08</td>\n",
       "      <td>2.963382e+02</td>\n",
       "    </tr>\n",
       "    <tr>\n",
       "      <th>...</th>\n",
       "      <td>...</td>\n",
       "      <td>...</td>\n",
       "      <td>...</td>\n",
       "      <td>...</td>\n",
       "      <td>...</td>\n",
       "      <td>...</td>\n",
       "      <td>...</td>\n",
       "      <td>...</td>\n",
       "      <td>...</td>\n",
       "      <td>...</td>\n",
       "    </tr>\n",
       "    <tr>\n",
       "      <th>Ã‡aÄŸan Irmak</th>\n",
       "      <td>13393.000000</td>\n",
       "      <td>0.265008</td>\n",
       "      <td>0.0</td>\n",
       "      <td>0.0</td>\n",
       "      <td>108.000000</td>\n",
       "      <td>12.000000</td>\n",
       "      <td>8.2</td>\n",
       "      <td>2005.000000</td>\n",
       "      <td>0.000000e+00</td>\n",
       "      <td>0.000000e+00</td>\n",
       "    </tr>\n",
       "    <tr>\n",
       "      <th>Ã‰mile Gaudreault</th>\n",
       "      <td>321.000000</td>\n",
       "      <td>0.276911</td>\n",
       "      <td>4361898.0</td>\n",
       "      <td>3031801.0</td>\n",
       "      <td>92.000000</td>\n",
       "      <td>13.000000</td>\n",
       "      <td>5.2</td>\n",
       "      <td>2003.000000</td>\n",
       "      <td>5.170387e+06</td>\n",
       "      <td>3.593753e+06</td>\n",
       "    </tr>\n",
       "    <tr>\n",
       "      <th>Ã‰ric Besnard</th>\n",
       "      <td>52349.000000</td>\n",
       "      <td>0.081724</td>\n",
       "      <td>0.0</td>\n",
       "      <td>0.0</td>\n",
       "      <td>100.000000</td>\n",
       "      <td>10.000000</td>\n",
       "      <td>5.1</td>\n",
       "      <td>2010.000000</td>\n",
       "      <td>0.000000e+00</td>\n",
       "      <td>0.000000e+00</td>\n",
       "    </tr>\n",
       "    <tr>\n",
       "      <th>Ã‰tienne Chatiliez</th>\n",
       "      <td>16637.333333</td>\n",
       "      <td>0.102346</td>\n",
       "      <td>4455000.0</td>\n",
       "      <td>0.0</td>\n",
       "      <td>101.333333</td>\n",
       "      <td>24.666667</td>\n",
       "      <td>6.7</td>\n",
       "      <td>1994.666667</td>\n",
       "      <td>6.374957e+06</td>\n",
       "      <td>0.000000e+00</td>\n",
       "    </tr>\n",
       "    <tr>\n",
       "      <th>Ã€lex Pastor|David Pastor</th>\n",
       "      <td>25769.000000</td>\n",
       "      <td>0.619369</td>\n",
       "      <td>0.0</td>\n",
       "      <td>5802422.0</td>\n",
       "      <td>84.000000</td>\n",
       "      <td>143.000000</td>\n",
       "      <td>5.7</td>\n",
       "      <td>2009.000000</td>\n",
       "      <td>0.000000e+00</td>\n",
       "      <td>5.897584e+06</td>\n",
       "    </tr>\n",
       "  </tbody>\n",
       "</table>\n",
       "<p>5050 rows × 10 columns</p>\n",
       "</div>"
      ],
      "text/plain": [
       "                                       id  popularity       budget  \\\n",
       "director                                                             \n",
       " FrÃ©dÃ©ric Jardin           79070.000000    0.434506    2500000.0   \n",
       "A. Todd Smith               370687.000000    1.876037          0.0   \n",
       "A.R. Murugadoss              14070.000000    0.215030    9100000.0   \n",
       "Aaron Aites                  36124.000000    0.108700          0.0   \n",
       "Aaron Blaise|Robert Walker   10009.000000    1.653031  100000000.0   \n",
       "...                                   ...         ...          ...   \n",
       "Ã‡aÄŸan Irmak                13393.000000    0.265008          0.0   \n",
       "Ã‰mile Gaudreault              321.000000    0.276911    4361898.0   \n",
       "Ã‰ric Besnard                52349.000000    0.081724          0.0   \n",
       "Ã‰tienne Chatiliez           16637.333333    0.102346    4455000.0   \n",
       "Ã€lex Pastor|David Pastor    25769.000000    0.619369          0.0   \n",
       "\n",
       "                               revenue     runtime  vote_count  vote_average  \\\n",
       "director                                                                       \n",
       " FrÃ©dÃ©ric Jardin              3358.0   98.000000   28.000000           5.9   \n",
       "A. Todd Smith                      0.0    0.000000   11.000000           5.4   \n",
       "A.R. Murugadoss             76000000.0  183.000000   53.000000           6.9   \n",
       "Aaron Aites                        0.0   93.000000   13.000000           6.5   \n",
       "Aaron Blaise|Robert Walker       250.0   85.000000  753.000000           6.8   \n",
       "...                                ...         ...         ...           ...   \n",
       "Ã‡aÄŸan Irmak                      0.0  108.000000   12.000000           8.2   \n",
       "Ã‰mile Gaudreault            3031801.0   92.000000   13.000000           5.2   \n",
       "Ã‰ric Besnard                      0.0  100.000000   10.000000           5.1   \n",
       "Ã‰tienne Chatiliez                 0.0  101.333333   24.666667           6.7   \n",
       "Ã€lex Pastor|David Pastor    5802422.0   84.000000  143.000000           5.7   \n",
       "\n",
       "                            release_year    budget_adj   revenue_adj  \n",
       "director                                                              \n",
       " FrÃ©dÃ©ric Jardin           2011.000000  2.423495e+06  3.255239e+03  \n",
       "A. Todd Smith                2015.000000  0.000000e+00  0.000000e+00  \n",
       "A.R. Murugadoss              2008.000000  9.216358e+06  7.697178e+07  \n",
       "Aaron Aites                  2008.000000  0.000000e+00  0.000000e+00  \n",
       "Aaron Blaise|Robert Walker   2003.000000  1.185353e+08  2.963382e+02  \n",
       "...                                  ...           ...           ...  \n",
       "Ã‡aÄŸan Irmak                2005.000000  0.000000e+00  0.000000e+00  \n",
       "Ã‰mile Gaudreault            2003.000000  5.170387e+06  3.593753e+06  \n",
       "Ã‰ric Besnard                2010.000000  0.000000e+00  0.000000e+00  \n",
       "Ã‰tienne Chatiliez           1994.666667  6.374957e+06  0.000000e+00  \n",
       "Ã€lex Pastor|David Pastor    2009.000000  0.000000e+00  5.897584e+06  \n",
       "\n",
       "[5050 rows x 10 columns]"
      ]
     },
     "execution_count": 64,
     "metadata": {},
     "output_type": "execute_result"
    }
   ],
   "source": [
    "# Provide the mean for each numeric column by director\n",
    "grouped_data.mean(numeric_only=True)"
   ]
  },
  {
   "cell_type": "markdown",
   "metadata": {},
   "source": [
    "---------------------------------\n",
    "# CHALLENGE 5\n",
    "---------------------------------"
   ]
  },
  {
   "cell_type": "markdown",
   "metadata": {},
   "source": [
    "Let’s next count the number of movies for each year. We’ll use `groupby` combined with a `count()` method."
   ]
  },
  {
   "cell_type": "code",
   "execution_count": 72,
   "metadata": {},
   "outputs": [
    {
     "name": "stdout",
     "output_type": "stream",
     "text": [
      "release_year\n",
      "1960     32\n",
      "1961     31\n",
      "1962     32\n",
      "1963     34\n",
      "1964     42\n",
      "1965     34\n",
      "1966     46\n",
      "1967     40\n",
      "1968     39\n",
      "1969     31\n",
      "1970     41\n",
      "1971     55\n",
      "1972     40\n",
      "1973     55\n",
      "1974     47\n",
      "1975     43\n",
      "1976     47\n",
      "1977     56\n",
      "1978     65\n",
      "1979     56\n",
      "1980     78\n",
      "1981     82\n",
      "1982     80\n",
      "1983     80\n",
      "1984    104\n",
      "1985    109\n",
      "1986    121\n",
      "1987    125\n",
      "1988    143\n",
      "1989    137\n",
      "1990    132\n",
      "1991    133\n",
      "1992    133\n",
      "1993    178\n",
      "1994    183\n",
      "1995    175\n",
      "1996    203\n",
      "1997    191\n",
      "1998    210\n",
      "1999    222\n",
      "2000    227\n",
      "2001    241\n",
      "2002    265\n",
      "2003    280\n",
      "2004    304\n",
      "2005    364\n",
      "2006    408\n",
      "2007    435\n",
      "2008    496\n",
      "2009    525\n",
      "2010    489\n",
      "2011    539\n",
      "2012    586\n",
      "2013    657\n",
      "2014    697\n",
      "2015    627\n",
      "Name: id, dtype: int64\n"
     ]
    }
   ],
   "source": [
    "movie_counts = my_data.groupby('release_year')['id'].count()\n",
    "print(movie_counts)"
   ]
  },
  {
   "cell_type": "markdown",
   "metadata": {},
   "source": [
    "We can also count just the rows that have the genre \"Thriller\":"
   ]
  },
  {
   "cell_type": "code",
   "execution_count": 86,
   "metadata": {},
   "outputs": [
    {
     "data": {
      "text/plain": [
       "np.int64(91)"
      ]
     },
     "execution_count": 86,
     "metadata": {},
     "output_type": "execute_result"
    }
   ],
   "source": [
    "my_data.groupby('genres')['release_year'].count()['Thriller']"
   ]
  },
  {
   "cell_type": "code",
   "execution_count": 90,
   "metadata": {},
   "outputs": [
    {
     "data": {
      "text/html": [
       "<div>\n",
       "<style scoped>\n",
       "    .dataframe tbody tr th:only-of-type {\n",
       "        vertical-align: middle;\n",
       "    }\n",
       "\n",
       "    .dataframe tbody tr th {\n",
       "        vertical-align: top;\n",
       "    }\n",
       "\n",
       "    .dataframe thead tr th {\n",
       "        text-align: left;\n",
       "    }\n",
       "\n",
       "    .dataframe thead tr:last-of-type th {\n",
       "        text-align: right;\n",
       "    }\n",
       "</style>\n",
       "<table border=\"1\" class=\"dataframe\">\n",
       "  <thead>\n",
       "    <tr>\n",
       "      <th></th>\n",
       "      <th colspan=\"4\" halign=\"left\">genres</th>\n",
       "    </tr>\n",
       "    <tr>\n",
       "      <th></th>\n",
       "      <th>count</th>\n",
       "      <th>unique</th>\n",
       "      <th>top</th>\n",
       "      <th>freq</th>\n",
       "    </tr>\n",
       "    <tr>\n",
       "      <th>release_year</th>\n",
       "      <th></th>\n",
       "      <th></th>\n",
       "      <th></th>\n",
       "      <th></th>\n",
       "    </tr>\n",
       "  </thead>\n",
       "  <tbody>\n",
       "    <tr>\n",
       "      <th>1960</th>\n",
       "      <td>32</td>\n",
       "      <td>25</td>\n",
       "      <td>Horror</td>\n",
       "      <td>3</td>\n",
       "    </tr>\n",
       "    <tr>\n",
       "      <th>1961</th>\n",
       "      <td>31</td>\n",
       "      <td>26</td>\n",
       "      <td>Horror</td>\n",
       "      <td>3</td>\n",
       "    </tr>\n",
       "    <tr>\n",
       "      <th>1962</th>\n",
       "      <td>32</td>\n",
       "      <td>26</td>\n",
       "      <td>Drama</td>\n",
       "      <td>4</td>\n",
       "    </tr>\n",
       "    <tr>\n",
       "      <th>1963</th>\n",
       "      <td>34</td>\n",
       "      <td>30</td>\n",
       "      <td>Horror</td>\n",
       "      <td>3</td>\n",
       "    </tr>\n",
       "    <tr>\n",
       "      <th>1964</th>\n",
       "      <td>42</td>\n",
       "      <td>38</td>\n",
       "      <td>Comedy|Romance</td>\n",
       "      <td>5</td>\n",
       "    </tr>\n",
       "    <tr>\n",
       "      <th>1965</th>\n",
       "      <td>34</td>\n",
       "      <td>32</td>\n",
       "      <td>Action|Adventure|Drama|Western</td>\n",
       "      <td>2</td>\n",
       "    </tr>\n",
       "    <tr>\n",
       "      <th>1966</th>\n",
       "      <td>46</td>\n",
       "      <td>41</td>\n",
       "      <td>Action|Western</td>\n",
       "      <td>3</td>\n",
       "    </tr>\n",
       "    <tr>\n",
       "      <th>1967</th>\n",
       "      <td>40</td>\n",
       "      <td>30</td>\n",
       "      <td>Comedy|Drama|Romance</td>\n",
       "      <td>4</td>\n",
       "    </tr>\n",
       "    <tr>\n",
       "      <th>1968</th>\n",
       "      <td>39</td>\n",
       "      <td>31</td>\n",
       "      <td>Drama</td>\n",
       "      <td>4</td>\n",
       "    </tr>\n",
       "    <tr>\n",
       "      <th>1969</th>\n",
       "      <td>31</td>\n",
       "      <td>26</td>\n",
       "      <td>Drama</td>\n",
       "      <td>5</td>\n",
       "    </tr>\n",
       "    <tr>\n",
       "      <th>1970</th>\n",
       "      <td>40</td>\n",
       "      <td>30</td>\n",
       "      <td>Horror</td>\n",
       "      <td>4</td>\n",
       "    </tr>\n",
       "    <tr>\n",
       "      <th>1971</th>\n",
       "      <td>55</td>\n",
       "      <td>43</td>\n",
       "      <td>Drama</td>\n",
       "      <td>4</td>\n",
       "    </tr>\n",
       "    <tr>\n",
       "      <th>1972</th>\n",
       "      <td>40</td>\n",
       "      <td>33</td>\n",
       "      <td>Comedy</td>\n",
       "      <td>4</td>\n",
       "    </tr>\n",
       "    <tr>\n",
       "      <th>1973</th>\n",
       "      <td>55</td>\n",
       "      <td>43</td>\n",
       "      <td>Horror</td>\n",
       "      <td>3</td>\n",
       "    </tr>\n",
       "    <tr>\n",
       "      <th>1974</th>\n",
       "      <td>46</td>\n",
       "      <td>40</td>\n",
       "      <td>Comedy|Science Fiction</td>\n",
       "      <td>3</td>\n",
       "    </tr>\n",
       "    <tr>\n",
       "      <th>1975</th>\n",
       "      <td>43</td>\n",
       "      <td>39</td>\n",
       "      <td>Drama</td>\n",
       "      <td>3</td>\n",
       "    </tr>\n",
       "    <tr>\n",
       "      <th>1976</th>\n",
       "      <td>47</td>\n",
       "      <td>40</td>\n",
       "      <td>Horror|Thriller</td>\n",
       "      <td>3</td>\n",
       "    </tr>\n",
       "    <tr>\n",
       "      <th>1977</th>\n",
       "      <td>56</td>\n",
       "      <td>47</td>\n",
       "      <td>Horror|Science Fiction</td>\n",
       "      <td>4</td>\n",
       "    </tr>\n",
       "    <tr>\n",
       "      <th>1978</th>\n",
       "      <td>65</td>\n",
       "      <td>55</td>\n",
       "      <td>Horror</td>\n",
       "      <td>4</td>\n",
       "    </tr>\n",
       "    <tr>\n",
       "      <th>1979</th>\n",
       "      <td>56</td>\n",
       "      <td>45</td>\n",
       "      <td>Comedy</td>\n",
       "      <td>5</td>\n",
       "    </tr>\n",
       "    <tr>\n",
       "      <th>1980</th>\n",
       "      <td>78</td>\n",
       "      <td>58</td>\n",
       "      <td>Action|Comedy</td>\n",
       "      <td>5</td>\n",
       "    </tr>\n",
       "    <tr>\n",
       "      <th>1981</th>\n",
       "      <td>82</td>\n",
       "      <td>62</td>\n",
       "      <td>Comedy</td>\n",
       "      <td>6</td>\n",
       "    </tr>\n",
       "    <tr>\n",
       "      <th>1982</th>\n",
       "      <td>80</td>\n",
       "      <td>64</td>\n",
       "      <td>Comedy</td>\n",
       "      <td>7</td>\n",
       "    </tr>\n",
       "    <tr>\n",
       "      <th>1983</th>\n",
       "      <td>80</td>\n",
       "      <td>60</td>\n",
       "      <td>Comedy</td>\n",
       "      <td>10</td>\n",
       "    </tr>\n",
       "    <tr>\n",
       "      <th>1984</th>\n",
       "      <td>104</td>\n",
       "      <td>86</td>\n",
       "      <td>Comedy</td>\n",
       "      <td>8</td>\n",
       "    </tr>\n",
       "    <tr>\n",
       "      <th>1985</th>\n",
       "      <td>109</td>\n",
       "      <td>81</td>\n",
       "      <td>Drama</td>\n",
       "      <td>9</td>\n",
       "    </tr>\n",
       "    <tr>\n",
       "      <th>1986</th>\n",
       "      <td>121</td>\n",
       "      <td>86</td>\n",
       "      <td>Comedy</td>\n",
       "      <td>7</td>\n",
       "    </tr>\n",
       "    <tr>\n",
       "      <th>1987</th>\n",
       "      <td>125</td>\n",
       "      <td>88</td>\n",
       "      <td>Comedy</td>\n",
       "      <td>8</td>\n",
       "    </tr>\n",
       "    <tr>\n",
       "      <th>1988</th>\n",
       "      <td>143</td>\n",
       "      <td>86</td>\n",
       "      <td>Drama</td>\n",
       "      <td>10</td>\n",
       "    </tr>\n",
       "    <tr>\n",
       "      <th>1989</th>\n",
       "      <td>136</td>\n",
       "      <td>93</td>\n",
       "      <td>Comedy</td>\n",
       "      <td>12</td>\n",
       "    </tr>\n",
       "    <tr>\n",
       "      <th>1990</th>\n",
       "      <td>132</td>\n",
       "      <td>95</td>\n",
       "      <td>Comedy|Drama</td>\n",
       "      <td>7</td>\n",
       "    </tr>\n",
       "    <tr>\n",
       "      <th>1991</th>\n",
       "      <td>133</td>\n",
       "      <td>93</td>\n",
       "      <td>Drama</td>\n",
       "      <td>6</td>\n",
       "    </tr>\n",
       "    <tr>\n",
       "      <th>1992</th>\n",
       "      <td>133</td>\n",
       "      <td>99</td>\n",
       "      <td>Drama</td>\n",
       "      <td>10</td>\n",
       "    </tr>\n",
       "    <tr>\n",
       "      <th>1993</th>\n",
       "      <td>178</td>\n",
       "      <td>113</td>\n",
       "      <td>Comedy</td>\n",
       "      <td>12</td>\n",
       "    </tr>\n",
       "    <tr>\n",
       "      <th>1994</th>\n",
       "      <td>183</td>\n",
       "      <td>123</td>\n",
       "      <td>Comedy</td>\n",
       "      <td>10</td>\n",
       "    </tr>\n",
       "    <tr>\n",
       "      <th>1995</th>\n",
       "      <td>174</td>\n",
       "      <td>118</td>\n",
       "      <td>Comedy</td>\n",
       "      <td>12</td>\n",
       "    </tr>\n",
       "    <tr>\n",
       "      <th>1996</th>\n",
       "      <td>202</td>\n",
       "      <td>117</td>\n",
       "      <td>Comedy</td>\n",
       "      <td>15</td>\n",
       "    </tr>\n",
       "    <tr>\n",
       "      <th>1997</th>\n",
       "      <td>191</td>\n",
       "      <td>117</td>\n",
       "      <td>Comedy</td>\n",
       "      <td>13</td>\n",
       "    </tr>\n",
       "    <tr>\n",
       "      <th>1998</th>\n",
       "      <td>210</td>\n",
       "      <td>137</td>\n",
       "      <td>Comedy|Drama</td>\n",
       "      <td>12</td>\n",
       "    </tr>\n",
       "    <tr>\n",
       "      <th>1999</th>\n",
       "      <td>222</td>\n",
       "      <td>132</td>\n",
       "      <td>Comedy</td>\n",
       "      <td>18</td>\n",
       "    </tr>\n",
       "    <tr>\n",
       "      <th>2000</th>\n",
       "      <td>226</td>\n",
       "      <td>132</td>\n",
       "      <td>Comedy</td>\n",
       "      <td>18</td>\n",
       "    </tr>\n",
       "    <tr>\n",
       "      <th>2001</th>\n",
       "      <td>240</td>\n",
       "      <td>152</td>\n",
       "      <td>Comedy</td>\n",
       "      <td>15</td>\n",
       "    </tr>\n",
       "    <tr>\n",
       "      <th>2002</th>\n",
       "      <td>265</td>\n",
       "      <td>169</td>\n",
       "      <td>Comedy|Drama</td>\n",
       "      <td>13</td>\n",
       "    </tr>\n",
       "    <tr>\n",
       "      <th>2003</th>\n",
       "      <td>280</td>\n",
       "      <td>169</td>\n",
       "      <td>Comedy</td>\n",
       "      <td>17</td>\n",
       "    </tr>\n",
       "    <tr>\n",
       "      <th>2004</th>\n",
       "      <td>304</td>\n",
       "      <td>178</td>\n",
       "      <td>Comedy</td>\n",
       "      <td>28</td>\n",
       "    </tr>\n",
       "    <tr>\n",
       "      <th>2005</th>\n",
       "      <td>363</td>\n",
       "      <td>190</td>\n",
       "      <td>Drama</td>\n",
       "      <td>24</td>\n",
       "    </tr>\n",
       "    <tr>\n",
       "      <th>2006</th>\n",
       "      <td>408</td>\n",
       "      <td>204</td>\n",
       "      <td>Drama</td>\n",
       "      <td>31</td>\n",
       "    </tr>\n",
       "    <tr>\n",
       "      <th>2007</th>\n",
       "      <td>435</td>\n",
       "      <td>225</td>\n",
       "      <td>Comedy</td>\n",
       "      <td>34</td>\n",
       "    </tr>\n",
       "    <tr>\n",
       "      <th>2008</th>\n",
       "      <td>495</td>\n",
       "      <td>231</td>\n",
       "      <td>Drama</td>\n",
       "      <td>33</td>\n",
       "    </tr>\n",
       "    <tr>\n",
       "      <th>2009</th>\n",
       "      <td>523</td>\n",
       "      <td>256</td>\n",
       "      <td>Comedy</td>\n",
       "      <td>43</td>\n",
       "    </tr>\n",
       "    <tr>\n",
       "      <th>2010</th>\n",
       "      <td>487</td>\n",
       "      <td>244</td>\n",
       "      <td>Drama</td>\n",
       "      <td>37</td>\n",
       "    </tr>\n",
       "    <tr>\n",
       "      <th>2011</th>\n",
       "      <td>539</td>\n",
       "      <td>261</td>\n",
       "      <td>Drama</td>\n",
       "      <td>34</td>\n",
       "    </tr>\n",
       "    <tr>\n",
       "      <th>2012</th>\n",
       "      <td>582</td>\n",
       "      <td>247</td>\n",
       "      <td>Drama</td>\n",
       "      <td>58</td>\n",
       "    </tr>\n",
       "    <tr>\n",
       "      <th>2013</th>\n",
       "      <td>654</td>\n",
       "      <td>245</td>\n",
       "      <td>Drama</td>\n",
       "      <td>59</td>\n",
       "    </tr>\n",
       "    <tr>\n",
       "      <th>2014</th>\n",
       "      <td>696</td>\n",
       "      <td>274</td>\n",
       "      <td>Drama</td>\n",
       "      <td>72</td>\n",
       "    </tr>\n",
       "    <tr>\n",
       "      <th>2015</th>\n",
       "      <td>625</td>\n",
       "      <td>275</td>\n",
       "      <td>Drama</td>\n",
       "      <td>58</td>\n",
       "    </tr>\n",
       "  </tbody>\n",
       "</table>\n",
       "</div>"
      ],
      "text/plain": [
       "             genres                                            \n",
       "              count unique                             top freq\n",
       "release_year                                                   \n",
       "1960             32     25                          Horror    3\n",
       "1961             31     26                          Horror    3\n",
       "1962             32     26                           Drama    4\n",
       "1963             34     30                          Horror    3\n",
       "1964             42     38                  Comedy|Romance    5\n",
       "1965             34     32  Action|Adventure|Drama|Western    2\n",
       "1966             46     41                  Action|Western    3\n",
       "1967             40     30            Comedy|Drama|Romance    4\n",
       "1968             39     31                           Drama    4\n",
       "1969             31     26                           Drama    5\n",
       "1970             40     30                          Horror    4\n",
       "1971             55     43                           Drama    4\n",
       "1972             40     33                          Comedy    4\n",
       "1973             55     43                          Horror    3\n",
       "1974             46     40          Comedy|Science Fiction    3\n",
       "1975             43     39                           Drama    3\n",
       "1976             47     40                 Horror|Thriller    3\n",
       "1977             56     47          Horror|Science Fiction    4\n",
       "1978             65     55                          Horror    4\n",
       "1979             56     45                          Comedy    5\n",
       "1980             78     58                   Action|Comedy    5\n",
       "1981             82     62                          Comedy    6\n",
       "1982             80     64                          Comedy    7\n",
       "1983             80     60                          Comedy   10\n",
       "1984            104     86                          Comedy    8\n",
       "1985            109     81                           Drama    9\n",
       "1986            121     86                          Comedy    7\n",
       "1987            125     88                          Comedy    8\n",
       "1988            143     86                           Drama   10\n",
       "1989            136     93                          Comedy   12\n",
       "1990            132     95                    Comedy|Drama    7\n",
       "1991            133     93                           Drama    6\n",
       "1992            133     99                           Drama   10\n",
       "1993            178    113                          Comedy   12\n",
       "1994            183    123                          Comedy   10\n",
       "1995            174    118                          Comedy   12\n",
       "1996            202    117                          Comedy   15\n",
       "1997            191    117                          Comedy   13\n",
       "1998            210    137                    Comedy|Drama   12\n",
       "1999            222    132                          Comedy   18\n",
       "2000            226    132                          Comedy   18\n",
       "2001            240    152                          Comedy   15\n",
       "2002            265    169                    Comedy|Drama   13\n",
       "2003            280    169                          Comedy   17\n",
       "2004            304    178                          Comedy   28\n",
       "2005            363    190                           Drama   24\n",
       "2006            408    204                           Drama   31\n",
       "2007            435    225                          Comedy   34\n",
       "2008            495    231                           Drama   33\n",
       "2009            523    256                          Comedy   43\n",
       "2010            487    244                           Drama   37\n",
       "2011            539    261                           Drama   34\n",
       "2012            582    247                           Drama   58\n",
       "2013            654    245                           Drama   59\n",
       "2014            696    274                           Drama   72\n",
       "2015            625    275                           Drama   58"
      ]
     },
     "execution_count": 90,
     "metadata": {},
     "output_type": "execute_result"
    }
   ],
   "source": [
    "my_data[['genres','release_year']].groupby('release_year').describe()"
   ]
  },
  {
   "cell_type": "markdown",
   "metadata": {},
   "source": [
    "## Quick & Easy Plotting Data Using Pandas"
   ]
  },
  {
   "cell_type": "markdown",
   "metadata": {},
   "source": [
    "We can plot our summary stats using Pandas, too."
   ]
  },
  {
   "cell_type": "code",
   "execution_count": 92,
   "metadata": {},
   "outputs": [
    {
     "data": {
      "image/png": "[encoded data removed]",
      "text/plain": [
       "<Figure size 640x480 with 1 Axes>"
      ]
     },
     "metadata": {},
     "output_type": "display_data"
    }
   ],
   "source": [
    "# Make sure figures appear inline in Ipython Notebook\n",
    "import matplotlib.pyplot as plt\n",
    "\n",
    "%matplotlib inline\n",
    "# Create a quick bar chart\n",
    "movie_counts.plot(kind='bar');\n",
    "# The ; just removes the object type displayed at the top"
   ]
  },
  {
   "cell_type": "markdown",
   "metadata": {},
   "source": [
    "---------------------------------\n",
    "# CHALLENGE 6\n",
    "---------------------------------"
   ]
  },
  {
   "cell_type": "markdown",
   "metadata": {},
   "source": [
    "------------------------------------------------------\n",
    "# SLIDES\n",
    "------------------------------------------------------"
   ]
  },
  {
   "cell_type": "markdown",
   "metadata": {},
   "source": [
    "## Indexing and Slicing in Python"
   ]
  },
  {
   "cell_type": "markdown",
   "metadata": {},
   "source": [
    "We often want to work with subsets of a DataFrame object. There are different ways to accomplish this including: using labels (column headings), numeric ranges, or specific x,y index locations."
   ]
  },
  {
   "cell_type": "markdown",
   "metadata": {},
   "source": [
    "### Selecting data using Labels (Column Headings)"
   ]
  },
  {
   "cell_type": "markdown",
   "metadata": {},
   "source": [
    "We use square brackets [] to select a subset of a Python object."
   ]
  },
  {
   "cell_type": "code",
   "execution_count": 93,
   "metadata": {},
   "outputs": [
    {
     "data": {
      "text/plain": [
       "0    The Little Shop of Horrors\n",
       "1                   The Bellboy\n",
       "2              Comanche Station\n",
       "3          The City of the Dead\n",
       "4         Village of the Damned\n",
       "Name: original_title, dtype: object"
      ]
     },
     "execution_count": 93,
     "metadata": {},
     "output_type": "execute_result"
    }
   ],
   "source": [
    "# TIP: use the .head() method we saw earlier to make output shorter\n",
    "# Method 1: select a 'subset' of the data using the column name\n",
    "my_data['original_title'].head()\n",
    "\n",
    "# Method 2: use the column name as an 'attribute'; gives the same output\n",
    "my_data.original_title.head()"
   ]
  },
  {
   "cell_type": "markdown",
   "metadata": {},
   "source": [
    "We can also create a new object that contains only the data within the `original_title` column as follows:"
   ]
  },
  {
   "cell_type": "code",
   "execution_count": 94,
   "metadata": {},
   "outputs": [],
   "source": [
    "# Creates an object, movie_titles, that only contains the `original_title` column\n",
    "movie_titles = my_data['original_title']"
   ]
  },
  {
   "cell_type": "code",
   "execution_count": 95,
   "metadata": {},
   "outputs": [
    {
     "data": {
      "text/plain": [
       "0                           The Little Shop of Horrors\n",
       "1                                          The Bellboy\n",
       "2                                     Comanche Station\n",
       "3                                 The City of the Dead\n",
       "4                                Village of the Damned\n",
       "                             ...                      \n",
       "10820                                The Hateful Eight\n",
       "10821                         And Then There Were None\n",
       "10822    The Jinx: The Life and Deaths of Robert Durst\n",
       "10823                                  Childhood's End\n",
       "10824                                   Show Me a Hero\n",
       "Name: original_title, Length: 10825, dtype: object"
      ]
     },
     "execution_count": 95,
     "metadata": {},
     "output_type": "execute_result"
    }
   ],
   "source": [
    "movie_titles"
   ]
  },
  {
   "cell_type": "markdown",
   "metadata": {},
   "source": [
    "We can pass a list of column names too, as an index to select columns in that order. This is useful when we need to reorganize our data."
   ]
  },
  {
   "cell_type": "code",
   "execution_count": 96,
   "metadata": {},
   "outputs": [
    {
     "ename": "KeyError",
     "evalue": "'rating'",
     "output_type": "error",
     "traceback": [
      "\u001b[0;31m---------------------------------------------------------------------------\u001b[0m",
      "\u001b[0;31mKeyError\u001b[0m                                  Traceback (most recent call last)",
      "File \u001b[0;32m~/Code/tutorial/.venv/lib/python3.10/site-packages/pandas/core/indexes/base.py:3805\u001b[0m, in \u001b[0;36mIndex.get_loc\u001b[0;34m(self, key)\u001b[0m\n\u001b[1;32m   3804\u001b[0m \u001b[38;5;28;01mtry\u001b[39;00m:\n\u001b[0;32m-> 3805\u001b[0m     \u001b[38;5;28;01mreturn\u001b[39;00m \u001b[38;5;28;43mself\u001b[39;49m\u001b[38;5;241;43m.\u001b[39;49m\u001b[43m_engine\u001b[49m\u001b[38;5;241;43m.\u001b[39;49m\u001b[43mget_loc\u001b[49m\u001b[43m(\u001b[49m\u001b[43mcasted_key\u001b[49m\u001b[43m)\u001b[49m\n\u001b[1;32m   3806\u001b[0m \u001b[38;5;28;01mexcept\u001b[39;00m \u001b[38;5;167;01mKeyError\u001b[39;00m \u001b[38;5;28;01mas\u001b[39;00m err:\n",
      "File \u001b[0;32mindex.pyx:167\u001b[0m, in \u001b[0;36mpandas._libs.index.IndexEngine.get_loc\u001b[0;34m()\u001b[0m\n",
      "File \u001b[0;32mindex.pyx:196\u001b[0m, in \u001b[0;36mpandas._libs.index.IndexEngine.get_loc\u001b[0;34m()\u001b[0m\n",
      "File \u001b[0;32mpandas/_libs/hashtable_class_helper.pxi:7081\u001b[0m, in \u001b[0;36mpandas._libs.hashtable.PyObjectHashTable.get_item\u001b[0;34m()\u001b[0m\n",
      "File \u001b[0;32mpandas/_libs/hashtable_class_helper.pxi:7089\u001b[0m, in \u001b[0;36mpandas._libs.hashtable.PyObjectHashTable.get_item\u001b[0;34m()\u001b[0m\n",
      "\u001b[0;31mKeyError\u001b[0m: 'rating'",
      "\nThe above exception was the direct cause of the following exception:\n",
      "\u001b[0;31mKeyError\u001b[0m                                  Traceback (most recent call last)",
      "Cell \u001b[0;32mIn[96], line 8\u001b[0m\n\u001b[1;32m      5\u001b[0m my_data[[\u001b[38;5;124m'\u001b[39m\u001b[38;5;124mrelease_year\u001b[39m\u001b[38;5;124m'\u001b[39m, \u001b[38;5;124m'\u001b[39m\u001b[38;5;124mdirector\u001b[39m\u001b[38;5;124m'\u001b[39m]]\n\u001b[1;32m      7\u001b[0m \u001b[38;5;66;03m# What happens if you ask for a column that doesn't exist?\u001b[39;00m\n\u001b[0;32m----> 8\u001b[0m \u001b[43mmy_data\u001b[49m\u001b[43m[\u001b[49m\u001b[38;5;124;43m'\u001b[39;49m\u001b[38;5;124;43mrating\u001b[39;49m\u001b[38;5;124;43m'\u001b[39;49m\u001b[43m]\u001b[49m\n",
      "File \u001b[0;32m~/Code/tutorial/.venv/lib/python3.10/site-packages/pandas/core/frame.py:4102\u001b[0m, in \u001b[0;36mDataFrame.__getitem__\u001b[0;34m(self, key)\u001b[0m\n\u001b[1;32m   4100\u001b[0m \u001b[38;5;28;01mif\u001b[39;00m \u001b[38;5;28mself\u001b[39m\u001b[38;5;241m.\u001b[39mcolumns\u001b[38;5;241m.\u001b[39mnlevels \u001b[38;5;241m>\u001b[39m \u001b[38;5;241m1\u001b[39m:\n\u001b[1;32m   4101\u001b[0m     \u001b[38;5;28;01mreturn\u001b[39;00m \u001b[38;5;28mself\u001b[39m\u001b[38;5;241m.\u001b[39m_getitem_multilevel(key)\n\u001b[0;32m-> 4102\u001b[0m indexer \u001b[38;5;241m=\u001b[39m \u001b[38;5;28;43mself\u001b[39;49m\u001b[38;5;241;43m.\u001b[39;49m\u001b[43mcolumns\u001b[49m\u001b[38;5;241;43m.\u001b[39;49m\u001b[43mget_loc\u001b[49m\u001b[43m(\u001b[49m\u001b[43mkey\u001b[49m\u001b[43m)\u001b[49m\n\u001b[1;32m   4103\u001b[0m \u001b[38;5;28;01mif\u001b[39;00m is_integer(indexer):\n\u001b[1;32m   4104\u001b[0m     indexer \u001b[38;5;241m=\u001b[39m [indexer]\n",
      "File \u001b[0;32m~/Code/tutorial/.venv/lib/python3.10/site-packages/pandas/core/indexes/base.py:3812\u001b[0m, in \u001b[0;36mIndex.get_loc\u001b[0;34m(self, key)\u001b[0m\n\u001b[1;32m   3807\u001b[0m     \u001b[38;5;28;01mif\u001b[39;00m \u001b[38;5;28misinstance\u001b[39m(casted_key, \u001b[38;5;28mslice\u001b[39m) \u001b[38;5;129;01mor\u001b[39;00m (\n\u001b[1;32m   3808\u001b[0m         \u001b[38;5;28misinstance\u001b[39m(casted_key, abc\u001b[38;5;241m.\u001b[39mIterable)\n\u001b[1;32m   3809\u001b[0m         \u001b[38;5;129;01mand\u001b[39;00m \u001b[38;5;28many\u001b[39m(\u001b[38;5;28misinstance\u001b[39m(x, \u001b[38;5;28mslice\u001b[39m) \u001b[38;5;28;01mfor\u001b[39;00m x \u001b[38;5;129;01min\u001b[39;00m casted_key)\n\u001b[1;32m   3810\u001b[0m     ):\n\u001b[1;32m   3811\u001b[0m         \u001b[38;5;28;01mraise\u001b[39;00m InvalidIndexError(key)\n\u001b[0;32m-> 3812\u001b[0m     \u001b[38;5;28;01mraise\u001b[39;00m \u001b[38;5;167;01mKeyError\u001b[39;00m(key) \u001b[38;5;28;01mfrom\u001b[39;00m \u001b[38;5;21;01merr\u001b[39;00m\n\u001b[1;32m   3813\u001b[0m \u001b[38;5;28;01mexcept\u001b[39;00m \u001b[38;5;167;01mTypeError\u001b[39;00m:\n\u001b[1;32m   3814\u001b[0m     \u001b[38;5;66;03m# If we have a listlike key, _check_indexing_error will raise\u001b[39;00m\n\u001b[1;32m   3815\u001b[0m     \u001b[38;5;66;03m#  InvalidIndexError. Otherwise we fall through and re-raise\u001b[39;00m\n\u001b[1;32m   3816\u001b[0m     \u001b[38;5;66;03m#  the TypeError.\u001b[39;00m\n\u001b[1;32m   3817\u001b[0m     \u001b[38;5;28mself\u001b[39m\u001b[38;5;241m.\u001b[39m_check_indexing_error(key)\n",
      "\u001b[0;31mKeyError\u001b[0m: 'rating'"
     ]
    }
   ],
   "source": [
    "# Select the director and release_year columns from the DataFrame\n",
    "my_data[['director', 'release_year']]\n",
    "\n",
    "# What happens when you flip the order?\n",
    "my_data[['release_year', 'director']]\n",
    "\n",
    "# What happens if you ask for a column that doesn't exist?\n",
    "my_data['rating']"
   ]
  },
  {
   "cell_type": "markdown",
   "metadata": {},
   "source": [
    "### Extracting Range based Subsets: Slicing"
   ]
  },
  {
   "cell_type": "markdown",
   "metadata": {},
   "source": [
    "Python uses 0-based indexing. This means that the first element in an object is located at position 0. "
   ]
  },
  {
   "cell_type": "code",
   "execution_count": 98,
   "metadata": {},
   "outputs": [],
   "source": [
    "# Create a list of numbers\n",
    "a = [1, 2, 3, 4, 5]"
   ]
  },
  {
   "cell_type": "code",
   "execution_count": 99,
   "metadata": {},
   "outputs": [
    {
     "data": {
      "text/plain": [
       "3"
      ]
     },
     "execution_count": 99,
     "metadata": {},
     "output_type": "execute_result"
    }
   ],
   "source": [
    "# Indexing: getting a specific element\n",
    "a[2]"
   ]
  },
  {
   "cell_type": "code",
   "execution_count": 100,
   "metadata": {},
   "outputs": [
    {
     "data": {
      "text/plain": [
       "[2, 3]"
      ]
     },
     "execution_count": 100,
     "metadata": {},
     "output_type": "execute_result"
    }
   ],
   "source": [
    "# Slicing: selecting a set of elements\n",
    "a[1:3]"
   ]
  },
  {
   "cell_type": "markdown",
   "metadata": {},
   "source": [
    "---------------------------------\n",
    "# CHALLENGE 7\n",
    "---------------------------------"
   ]
  },
  {
   "cell_type": "markdown",
   "metadata": {},
   "source": [
    "## Slicing Subsets of Rows and Columns"
   ]
  },
  {
   "cell_type": "markdown",
   "metadata": {},
   "source": [
    "Slicing using the `[]` operator selects a set of rows and/or columns from a DataFrame. To slice out a set of rows, you use the following syntax: `data[start:stop]`.\n",
    "\n",
    "When slicing in pandas the start bound is included in the output. The stop bound is one step BEYOND the row you want to select. So if you want to select rows 0, 1 and 2 your code would look like this:"
   ]
  },
  {
   "cell_type": "code",
   "execution_count": null,
   "metadata": {},
   "outputs": [],
   "source": [
    "# Select rows 0, 1, 2 (row 3 is not selected)\n",
    "my_data[0:3]\n",
    "\n",
    "# Select the first 5 rows (rows 0, 1, 2, 3, 4)\n",
    "my_data[:5]\n",
    "\n",
    "# Select the last element in the list\n",
    "# (the slice starts at the last element, and ends at the end of the list)\n",
    "my_data[-1:]"
   ]
  },
  {
   "cell_type": "markdown",
   "metadata": {},
   "source": [
    "## Copying Objects vs Referencing Objects"
   ]
  },
  {
   "cell_type": "code",
   "execution_count": null,
   "metadata": {},
   "outputs": [],
   "source": [
    "# Using the 'copy() method'\n",
    "true_copy_data = my_data.copy()\n",
    "\n",
    "# Using the '=' operator\n",
    "ref_data = my_data\n",
    "\n",
    "# If you change any values in `ref_data`,\n",
    "# it will also change in `my_data`."
   ]
  },
  {
   "cell_type": "markdown",
   "metadata": {},
   "source": [
    "## Subsetting Data using Criteria"
   ]
  },
  {
   "cell_type": "markdown",
   "metadata": {},
   "source": [
    "We can select specific ranges of our data in both the row and column directions using either label or integer-based indexing.\n",
    "\n",
    "`iloc` is primarily an integer-based indexing counting from 0. That is, you specify rows and columns giving a number. Thus, the first row is row 0, the second column is column 1, etc.\n",
    "\n",
    "`loc` is primarily a label-based indexing where you can refer to rows and columns by their name. E.g., column `year`. Note that integers may be used, but they are interpreted as a label."
   ]
  },
  {
   "cell_type": "code",
   "execution_count": null,
   "metadata": {},
   "outputs": [],
   "source": [
    "# iloc[row slicing, column slicing]\n",
    "my_data.iloc[0:3, 1:4]\n",
    "\n",
    "# This yielded 3 rows of data. When you ask for 0:3, \n",
    "# you are actually telling Python to start at index 0 \n",
    "# and select rows 0, 1, 2 up to but not including 3."
   ]
  },
  {
   "cell_type": "code",
   "execution_count": null,
   "metadata": {},
   "outputs": [],
   "source": [
    "# loc[row slicing, column slicing]\n",
    "my_data.loc[0:3, 1:4]\n",
    "# This gives an error, because pandas can't find \n",
    "# columns named \"1\", \"2\", \"3\", or \"4\"."
   ]
  },
  {
   "cell_type": "markdown",
   "metadata": {},
   "source": [
    "When using `loc`, integers can be used, but the integers refer to the index label and not the position. For example, using `loc` and select 1:4 will get a different result than using `iloc` to select rows 1:4."
   ]
  },
  {
   "cell_type": "code",
   "execution_count": null,
   "metadata": {},
   "outputs": [],
   "source": [
    "my_data.loc[0:3, ['imdb_id', 'popularity', 'budget']]\n",
    "# We have to use LABELS with LOC.\n",
    "# But do you see the difference in the number of rows? \n",
    "# It extract the rows at index 0,1,2 AND 3, because it's using the\n",
    "# index as a LABEL, and not using it as a positional argument.\n",
    "\n",
    "# And remember that the start and stop bounds of loc are included."
   ]
  },
  {
   "cell_type": "code",
   "execution_count": null,
   "metadata": {},
   "outputs": [],
   "source": [
    "# Select all columns for rows of index values 0 and 10\n",
    "my_data.loc[[0, 10], :]\n",
    "\n",
    "# With loc, both the start bound and the stop bound are inclusive."
   ]
  },
  {
   "cell_type": "code",
   "execution_count": null,
   "metadata": {},
   "outputs": [],
   "source": [
    "# What does this do?\n",
    "my_data.loc[0, ['release_year', 'director', 'budget']]\n",
    "\n",
    "# Note that labels must be found in the DataFrame or you will get a KeyError."
   ]
  },
  {
   "cell_type": "code",
   "execution_count": null,
   "metadata": {},
   "outputs": [],
   "source": [
    "\n",
    "# What happens when you type the code below?\n",
    "my_data.loc[[0, 10, 3549], :]\n",
    "\n",
    "# With loc, both the start bound and the stop bound are inclusive."
   ]
  },
  {
   "cell_type": "markdown",
   "metadata": {},
   "source": [
    "We can also select a specific data value using a row and column location within the DataFrame and iloc indexing:"
   ]
  },
  {
   "cell_type": "markdown",
   "metadata": {},
   "source": [
    "Syntax for iloc indexing to finding a specific data element:\n",
    "\n",
    "`data.iloc[row, column]`"
   ]
  },
  {
   "cell_type": "markdown",
   "metadata": {},
   "source": [
    "## Subsetting Data using Criteria"
   ]
  },
  {
   "cell_type": "markdown",
   "metadata": {},
   "source": [
    "We can also select a subset of our data using criteria. Let's select all the movies that were released in 2005."
   ]
  },
  {
   "cell_type": "code",
   "execution_count": null,
   "metadata": {},
   "outputs": [],
   "source": [
    "my_data[my_data.release_year == 2005]"
   ]
  },
  {
   "cell_type": "markdown",
   "metadata": {},
   "source": [
    "Or we can select all rows that do not contain the year 2005:"
   ]
  },
  {
   "cell_type": "code",
   "execution_count": null,
   "metadata": {},
   "outputs": [],
   "source": [
    "# Option 1\n",
    "my_data[my_data != 2005]\n",
    "\n",
    "# Option 2\n",
    "my_data[~(my_data == 2005)]"
   ]
  },
  {
   "cell_type": "markdown",
   "metadata": {},
   "source": [
    "We can define sets of criteria too:"
   ]
  },
  {
   "cell_type": "code",
   "execution_count": null,
   "metadata": {},
   "outputs": [],
   "source": [
    "my_data[(my_data.release_year >= 2000) & (my_data.release_year <= 2005)]"
   ]
  },
  {
   "cell_type": "markdown",
   "metadata": {},
   "source": [
    "---------------------------------\n",
    "# CHALLENGE 8\n",
    "---------------------------------"
   ]
  },
  {
   "cell_type": "markdown",
   "metadata": {},
   "source": [
    "## Using masks to identify a specific condition"
   ]
  },
  {
   "cell_type": "markdown",
   "metadata": {},
   "source": [
    "A mask can be useful to locate where a particular subset of values exist or don’t exist - for example, NaN, or “Not a Number” values. To understand masks, we also need to understand BOOLEAN objects in Python.\n",
    "\n",
    "Boolean values include `True` or `False`. For example:"
   ]
  },
  {
   "cell_type": "code",
   "execution_count": null,
   "metadata": {},
   "outputs": [],
   "source": [
    "# Set x to 5\n",
    "x = 5"
   ]
  },
  {
   "cell_type": "code",
   "execution_count": null,
   "metadata": {},
   "outputs": [],
   "source": [
    "# What does the code below return?\n",
    "x > 5"
   ]
  },
  {
   "cell_type": "code",
   "execution_count": null,
   "metadata": {},
   "outputs": [],
   "source": [
    "# How about this?\n",
    "x == 5"
   ]
  },
  {
   "cell_type": "markdown",
   "metadata": {},
   "source": [
    "# Missing data"
   ]
  },
  {
   "cell_type": "code",
   "execution_count": null,
   "metadata": {},
   "outputs": [],
   "source": [
    "import pandas as pd\n",
    "my_data_missing = pd.read_csv(\"data/tmdb-movies-missing.csv\")"
   ]
  },
  {
   "cell_type": "markdown",
   "metadata": {},
   "source": [
    "Let’s try this out. Let’s identify all locations in the data that have null (missing or NaN) data values. We can use the `isnull` method to do this. The `isnull` method will compare each cell with a null value. If an element has a null value, it will be assigned a value of `True` in the output object."
   ]
  },
  {
   "cell_type": "code",
   "execution_count": null,
   "metadata": {},
   "outputs": [],
   "source": [
    "pd.isnull(my_data_missing)"
   ]
  },
  {
   "cell_type": "markdown",
   "metadata": {},
   "source": [
    "To select the rows where there are null values, we can use the mask as an index to subset our data as follows:"
   ]
  },
  {
   "cell_type": "code",
   "execution_count": null,
   "metadata": {},
   "outputs": [],
   "source": [
    "# To select just the rows with NaN values, we can use the 'any()' method\n",
    "\n",
    "my_data_missing[pd.isnull(my_data_missing).any(axis=1)]\n",
    "# axis=1 means that it checks across each row."
   ]
  },
  {
   "cell_type": "markdown",
   "metadata": {},
   "source": [
    "We can run `isnull` on a particular column too. What does the code below do?"
   ]
  },
  {
   "cell_type": "code",
   "execution_count": null,
   "metadata": {},
   "outputs": [],
   "source": [
    "# What does this do?\n",
    "missing_titles = my_data_missing[pd.isnull(my_data_missing['original_title'])]\n",
    "print(missing_titles)\n",
    "\n",
    "# We are asking Python to select rows that have a NaN value of title, i.e. missing titles.b"
   ]
  },
  {
   "cell_type": "markdown",
   "metadata": {},
   "source": [
    "Let's extract the homepages for the movies with missing titles:"
   ]
  },
  {
   "cell_type": "code",
   "execution_count": null,
   "metadata": {},
   "outputs": [],
   "source": [
    "missing_titles['homepage']\n",
    "\n",
    "# You can visit the homepages to get the movie titles."
   ]
  },
  {
   "cell_type": "markdown",
   "metadata": {},
   "source": [
    "## Checking the format of our data "
   ]
  },
  {
   "cell_type": "markdown",
   "metadata": {},
   "source": [
    "The format of individual columns and rows will impact analysis performed on a dataset read into a pandas DataFrame. For example, you can’t perform mathematical calculations on a string (text formatted data).\n",
    "\n",
    "- Every value has a type.\n",
    "- Use the built-in function type to find the type of a value.\n",
    "- Types control what operations can be done on values.\n",
    "- Strings can be added and multiplied.\n",
    "- Strings have a length (but numbers don’t).\n",
    "- Must convert numbers to strings or vice versa when operating on them.\n",
    "- Can mix integers and floats freely in operations."
   ]
  },
  {
   "cell_type": "markdown",
   "metadata": {},
   "source": [
    "### Types of Data"
   ]
  },
  {
   "cell_type": "code",
   "execution_count": null,
   "metadata": {},
   "outputs": [],
   "source": [
    "my_data.dtypes"
   ]
  },
  {
   "cell_type": "code",
   "execution_count": null,
   "metadata": {},
   "outputs": [],
   "source": [
    "my_data['director'].dtype\n",
    "\n",
    "# A type \"O\" stands for \"object\", i.e. string/text"
   ]
  },
  {
   "cell_type": "markdown",
   "metadata": {},
   "source": [
    "## Working With Integers and Floats"
   ]
  },
  {
   "cell_type": "markdown",
   "metadata": {},
   "source": [
    "If we divide one integer by another, we get a float."
   ]
  },
  {
   "cell_type": "code",
   "execution_count": null,
   "metadata": {},
   "outputs": [],
   "source": [
    "print(5/9)"
   ]
  },
  {
   "cell_type": "markdown",
   "metadata": {},
   "source": [
    "We can also convert a floating point number to an integer or an integer to floating point number. Notice that Python by default rounds down when it converts from floating point to integer."
   ]
  },
  {
   "cell_type": "code",
   "execution_count": null,
   "metadata": {},
   "outputs": [],
   "source": [
    "# Convert a to an integer\n",
    "a = 7.83\n",
    "int(a)"
   ]
  },
  {
   "cell_type": "code",
   "execution_count": null,
   "metadata": {},
   "outputs": [],
   "source": [
    "# Convert b to a float\n",
    "b = 7\n",
    "float(b)"
   ]
  },
  {
   "cell_type": "markdown",
   "metadata": {},
   "source": [
    "## Working With Our Movies Data"
   ]
  },
  {
   "cell_type": "code",
   "execution_count": null,
   "metadata": {},
   "outputs": [],
   "source": [
    "# Convert the id field from an integer to a float\n",
    "my_data['id'] = my_data['id'].astype('float64')\n",
    "my_data['id'].dtype"
   ]
  },
  {
   "cell_type": "markdown",
   "metadata": {},
   "source": [
    "---------------------------------\n",
    "# CHALLENGE 9\n",
    "---------------------------------"
   ]
  },
  {
   "cell_type": "markdown",
   "metadata": {},
   "source": [
    "## Missing Data Values - NaN"
   ]
  },
  {
   "cell_type": "markdown",
   "metadata": {},
   "source": [
    "NaN (Not a Number) values are undefined values that cannot be represented mathematically. pandas, for example, will read an empty cell in a CSV or Excel sheet as NaN."
   ]
  },
  {
   "cell_type": "markdown",
   "metadata": {},
   "source": [
    "NaNs have some desirable properties: if we were to average the `budget` column without replacing our NaNs, Python would know to skip over those cells."
   ]
  },
  {
   "cell_type": "code",
   "execution_count": null,
   "metadata": {},
   "outputs": [],
   "source": [
    "my_data_missing['budget'].mean()"
   ]
  },
  {
   "cell_type": "markdown",
   "metadata": {},
   "source": [
    "Dealing with missing data values is always a challenge.\n",
    "\n",
    "It’s sometimes hard to know why values are missing:\n",
    "- Was it because of a data entry error?\n",
    "- Or data that someone was unable to collect?\n",
    "- Should the value be 0? \n",
    "\n",
    "We need to know how missing values are represented in the dataset in order to make good decisions. If we’re lucky, we have some metadata that will tell us more about how null values were handled."
   ]
  },
  {
   "cell_type": "markdown",
   "metadata": {},
   "source": [
    "We can figure out how many rows contain NaN values for `popularity`. We can also create a new subset from our data that only contains rows with popularity > 0 (i.e., select meaningful values):"
   ]
  },
  {
   "cell_type": "code",
   "execution_count": null,
   "metadata": {},
   "outputs": [],
   "source": [
    "len(my_data_missing[my_data_missing['popularity'].isna()])\n",
    "\n",
    "# How many rows have popularity values?\n",
    "len(my_data_missing[my_data_missing['popularity'] > 0])"
   ]
  },
  {
   "cell_type": "markdown",
   "metadata": {},
   "source": [
    "We can replace all `NaN` values with zeroes using the .`fillna()` method (after making a copy of the data so we don’t lose our work):"
   ]
  },
  {
   "cell_type": "code",
   "execution_count": null,
   "metadata": {},
   "outputs": [],
   "source": [
    "df1 = my_data_missing.copy()\n",
    "# Fill all NaN values with 0\n",
    "df1['popularity'] = df1['popularity'].fillna(0)"
   ]
  },
  {
   "cell_type": "markdown",
   "metadata": {},
   "source": [
    "However NaN and 0 yield different analysis results. The mean value when NaN values are replaced with 0 is different from when NaN values are simply thrown out or ignored."
   ]
  },
  {
   "cell_type": "code",
   "execution_count": null,
   "metadata": {},
   "outputs": [],
   "source": [
    "df1['popularity'].mean()"
   ]
  },
  {
   "cell_type": "markdown",
   "metadata": {},
   "source": [
    "We can fill NaN values with any value that we chose. The code below fills all NaN values with a mean for all popularity values."
   ]
  },
  {
   "cell_type": "code",
   "execution_count": null,
   "metadata": {},
   "outputs": [],
   "source": [
    "df1['popularity'] = df1['popularity'].fillna(df1['popularity'].mean())"
   ]
  },
  {
   "cell_type": "markdown",
   "metadata": {},
   "source": [
    "---------------------------------\n",
    "# CHALLENGE 10\n",
    "---------------------------------"
   ]
  },
  {
   "cell_type": "markdown",
   "metadata": {},
   "source": [
    "## Writing Out Data to CSV"
   ]
  },
  {
   "cell_type": "markdown",
   "metadata": {},
   "source": [
    "First, let’s reload the data so we’re not mixing up all of our previous manipulations."
   ]
  },
  {
   "cell_type": "code",
   "execution_count": null,
   "metadata": {},
   "outputs": [],
   "source": [
    "my_data = pd.read_csv(\"data/tmdb-movies.csv\")"
   ]
  },
  {
   "cell_type": "markdown",
   "metadata": {},
   "source": [
    "Let’s drop all the rows that contain missing values. We will use the command `dropna`. By default, `dropna` removes rows that contain missing data for even just one column."
   ]
  },
  {
   "cell_type": "code",
   "execution_count": null,
   "metadata": {},
   "outputs": [],
   "source": [
    "df_na = my_data.dropna()\n",
    "\n",
    "# Note: If you want to drop rows with missing values in a specific column:\n",
    "df_na = my_data.dropna(subset=['popularity'])"
   ]
  },
  {
   "cell_type": "markdown",
   "metadata": {},
   "source": [
    "Export a DataFrame in CSV format and save it in the `data_output` directory."
   ]
  },
  {
   "cell_type": "code",
   "execution_count": null,
   "metadata": {},
   "outputs": [],
   "source": [
    "# Write DataFrame to CSV\n",
    "df_na.to_csv('data_output/movies_complete.csv', index=False)"
   ]
  },
  {
   "cell_type": "markdown",
   "metadata": {},
   "source": [
    "------------------------------------------------------\n",
    "# SLIDES\n",
    "------------------------------------------------------"
   ]
  },
  {
   "cell_type": "markdown",
   "metadata": {},
   "source": [
    "# Concatenating DataFrames"
   ]
  },
  {
   "cell_type": "markdown",
   "metadata": {},
   "source": [
    "We often need to combine data files into a single DataFrame to analyze the data."
   ]
  },
  {
   "cell_type": "markdown",
   "metadata": {},
   "source": [
    "We can use the `concat` function in pandas to append either columns or rows from one DataFrame to another."
   ]
  },
  {
   "cell_type": "code",
   "execution_count": null,
   "metadata": {},
   "outputs": [],
   "source": [
    "# Read in first 10 lines of table\n",
    "data_sub = my_data.head(10)\n",
    "\n",
    "# Grab the last 10 rows\n",
    "data_sub_last10 = my_data.tail(10)\n",
    "\n",
    "# Reset the index values to the second dataframe appends properly\n",
    "data_sub_last10 = data_sub_last10.reset_index(drop=True)\n",
    "\n",
    "# drop=True option avoids adding new index column with old index values"
   ]
  },
  {
   "cell_type": "markdown",
   "metadata": {},
   "source": [
    "When we concatenate DataFrames, we need to specify the axis:\n",
    "- `axis=0` will stack the second DataFrame UNDER the first one. Columns need to have the same name and data types.\n",
    "- `axis=1` will stack the columns in the second DataFrame to the RIGHT of the first DataFrame. Rows need to be related."
   ]
  },
  {
   "cell_type": "code",
   "execution_count": null,
   "metadata": {},
   "outputs": [],
   "source": [
    "# Stack the DataFrames on top of each other\n",
    "vertical_stack = pd.concat([data_sub, data_sub_last10], axis=0)\n",
    "vertical_stack\n",
    "\n",
    "# Note that the row indexes for the two dataframes have been repeated."
   ]
  },
  {
   "cell_type": "code",
   "execution_count": null,
   "metadata": {},
   "outputs": [],
   "source": [
    "# Reindex the new DataFrame using the reset_index() method\n",
    "vertical_stack = vertical_stack.reset_index(drop=True)"
   ]
  },
  {
   "cell_type": "code",
   "execution_count": null,
   "metadata": {},
   "outputs": [],
   "source": [
    "# Write DataFrame to CSV\n",
    "vertical_stack.to_csv('data_output/out.csv', index=False)"
   ]
  },
  {
   "cell_type": "code",
   "execution_count": null,
   "metadata": {},
   "outputs": [],
   "source": [
    "# Place the DataFrames side by side\n",
    "horizontal_stack = pd.concat([data_sub, data_sub_last10], axis=1)\n",
    "horizontal_stack"
   ]
  },
  {
   "cell_type": "markdown",
   "metadata": {},
   "source": [
    "## Joining DataFrames"
   ]
  },
  {
   "cell_type": "markdown",
   "metadata": {},
   "source": [
    "When we concatenated our DataFrames, we simply added them to each other - stacking them either vertically or side by side. Another way to combine DataFrames is to use columns in each dataset that contain common values (a common unique identifier).\n",
    "\n",
    "The columns containing the common values are called “join key(s)”. Joining DataFrames in this way is often useful when one DataFrame is a “lookup table” containing additional data that we want to include in the other."
   ]
  },
  {
   "cell_type": "markdown",
   "metadata": {},
   "source": [
    "### Import multiple data files"
   ]
  },
  {
   "cell_type": "markdown",
   "metadata": {},
   "source": [
    "Many functions in Python have a set of options that can be set by the user if needed. Let's tell pandas to assign empty values in our CSV to NaN with the parameters `keep_default_na=False` and `na_values=[\"\"]`."
   ]
  },
  {
   "cell_type": "code",
   "execution_count": null,
   "metadata": {},
   "outputs": [],
   "source": [
    "movies = pd.read_csv(\"data/movies.csv\",\n",
    "                   keep_default_na=False,\n",
    "                   na_values=[\"\"])\n",
    "\n",
    "movies.head()"
   ]
  },
  {
   "cell_type": "code",
   "execution_count": null,
   "metadata": {},
   "outputs": [],
   "source": [
    "ratings = pd.read_csv(\"data/ratings.csv\",\n",
    "                   keep_default_na=False,\n",
    "                   na_values=[\"\"])\n",
    "\n",
    "ratings"
   ]
  },
  {
   "cell_type": "markdown",
   "metadata": {},
   "source": [
    "### Identifying join keys"
   ]
  },
  {
   "cell_type": "code",
   "execution_count": null,
   "metadata": {},
   "outputs": [],
   "source": [
    "movies.columns"
   ]
  },
  {
   "cell_type": "code",
   "execution_count": null,
   "metadata": {},
   "outputs": [],
   "source": [
    "ratings.columns"
   ]
  },
  {
   "cell_type": "markdown",
   "metadata": {},
   "source": [
    "In our example, the join key is the `movieId` column."
   ]
  },
  {
   "cell_type": "markdown",
   "metadata": {},
   "source": [
    "### Types of joins\n",
    "\n",
    "#### Inner join\n",
    "- Returns a new DataFrame that contains only those rows that have matching values in both of the original DataFrames.\n",
    "- `merged_inner = pd.merge(left=df1, right=df2, left_on='col1', right_on='col2')`\n",
    "\n",
    "#### Left join\n",
    "- Returns all of the rows from the left DataFrame, even those rows whose join key(s) do not have values in the right DataFrame.\n",
    "- `merged_left = pd.merge(left=df1, right=df2, how='left', left_on='col1', right_on='col2')`\n",
    "\n",
    "#### Right join\n",
    "- Returns all of the rows from the right DataFrame, even those rows whose join key(s) do not have values in the left DataFrame.\n",
    "- `merged_right = pd.merge(left=df1, right=df2, how='right', left_on='col1', right_on='col2')`\n",
    "\n",
    "#### Full (outer) join\n",
    "- Returns all pairwise combinations of rows from both DataFrames.\n",
    "- `merged_outer = pd.merge(left=df1, right=df2, how='outer', left_on='col1', right_on='col2')`"
   ]
  },
  {
   "cell_type": "code",
   "execution_count": null,
   "metadata": {},
   "outputs": [],
   "source": [
    "# Inner join\n",
    "\n",
    "# Option 1\n",
    "merged_inner = pd.merge(left=movies, right=ratings, left_on='movieId', right_on='movieId')\n",
    "\n",
    "# Option 2\n",
    "merged_inner = pd.merge(left=movies, right=ratings, on='movieId')\n",
    "\n",
    "merged_inner"
   ]
  },
  {
   "cell_type": "code",
   "execution_count": null,
   "metadata": {},
   "outputs": [],
   "source": [
    "# Left join\n",
    "merged_left = pd.merge(left=movies, right=ratings, on='movieId', how='left')\n",
    "merged_left"
   ]
  },
  {
   "cell_type": "code",
   "execution_count": null,
   "metadata": {},
   "outputs": [],
   "source": [
    "# Right join\n",
    "merged_right = pd.merge(left=movies, right=ratings, on='movieId', how='right')\n",
    "merged_right"
   ]
  },
  {
   "cell_type": "code",
   "execution_count": null,
   "metadata": {},
   "outputs": [],
   "source": [
    "# Full (outer) join\n",
    "merged_outer = pd.merge(left=movies, right=ratings, on='movieId', how='outer')\n",
    "merged_outer"
   ]
  },
  {
   "cell_type": "markdown",
   "metadata": {},
   "source": [
    "------------------------------------------------------\n",
    "# SLIDES\n",
    "------------------------------------------------------"
   ]
  },
  {
   "cell_type": "markdown",
   "metadata": {},
   "source": [
    "# Introduction to Plotting"
   ]
  },
  {
   "cell_type": "markdown",
   "metadata": {},
   "source": [
    "Let's create a copy of our `merged_inner` data and make some plots with that."
   ]
  },
  {
   "cell_type": "code",
   "execution_count": null,
   "metadata": {},
   "outputs": [],
   "source": [
    "data_complete = merged_inner.copy()"
   ]
  },
  {
   "cell_type": "code",
   "execution_count": null,
   "metadata": {},
   "outputs": [],
   "source": [
    "# Plot data directly from a Pandas dataframe\n",
    "data_complete['rating'].plot(kind='hist')\n",
    "plt.title('Distribution of Movie Ratings')\n",
    "plt.xlabel('Rating')\n",
    "plt.ylabel('Frequency')"
   ]
  },
  {
   "cell_type": "code",
   "execution_count": null,
   "metadata": {},
   "outputs": [],
   "source": [
    "\n",
    "# Matplotlib\n",
    "import matplotlib.pyplot as plt\n",
    "\n",
    "plt.figure(figsize=(8, 6))\n",
    "plt.hist(data_complete['rating'], bins=5, color='skyblue', edgecolor='black')\n",
    "plt.title('Distribution of Movie Ratings')\n",
    "plt.xlabel('Rating')\n",
    "plt.ylabel('Frequency')\n",
    "\n",
    "# Save the plot before showing it\n",
    "plt.savefig('fig_output/matplotlib_histogram.png', dpi=300, bbox_inches='tight')\n",
    "\n",
    "plt.show()"
   ]
  },
  {
   "cell_type": "code",
   "execution_count": null,
   "metadata": {},
   "outputs": [],
   "source": [
    "\n",
    "# Seaborn\n",
    "import seaborn as sns\n",
    "import matplotlib.pyplot as plt\n",
    "\n",
    "plt.figure(figsize=(8, 6))\n",
    "sns.histplot(data_complete['rating'], bins=5, color='skyblue', kde=False)\n",
    "plt.title('Distribution of Movie Ratings')\n",
    "plt.xlabel('Rating')\n",
    "plt.ylabel('Frequency')\n",
    "\n",
    "# Save the plot before showing it\n",
    "plt.savefig('fig_output/seaborn_histogram.png', dpi=300, bbox_inches='tight')\n",
    "\n",
    "plt.show()"
   ]
  },
  {
   "cell_type": "code",
   "execution_count": null,
   "metadata": {},
   "outputs": [],
   "source": [
    "\n",
    "# Plotnine\n",
    "from plotnine import ggplot, aes, geom_histogram, ggtitle, labs, theme_classic\n",
    "\n",
    "plot = (ggplot(data_complete, aes(x='rating')) +\n",
    "        geom_histogram(bins=5, fill='skyblue', color='black') +\n",
    "        ggtitle('Distribution of Movie Ratings') +\n",
    "        labs(x='Rating', y='Frequency') +\n",
    "        theme_classic())\n",
    "        \n",
    "print(plot)\n",
    "\n",
    "# Save the plot\n",
    "plot.save('fig_output/plotnine_histogram.png', dpi=300)"
   ]
  },
  {
   "cell_type": "markdown",
   "metadata": {},
   "source": [
    "These examples provide the same output visually but differ significantly in the way they are coded. The choice between them depends on the user's preference for customization, simplicity, and familiarity with the plotting paradigm.\n",
    "\n",
    "#### Summary of Differences\n",
    "\n",
    "**Matplotlib:**\n",
    "\n",
    "- Requires more boilerplate code (e.g., `plt.figure()`, `plt.show()`).\n",
    "- Customisation (color, labels) is done through method arguments.\n",
    "- The histogram is created using `plt.hist()`.\n",
    "\n",
    "**Seaborn:**\n",
    "\n",
    "- Less code than Matplotlib, with some additional aesthetics by default.\n",
    "- Histogram created with `sns.histplot()`; `kde=False` disables the kernel density estimate line.\n",
    "- Integrates with Matplotlib for underlying plotting but adds simplicity.\n",
    "\n",
    "**Plotnine:**\n",
    "\n",
    "- Follows a declarative style with the *Grammar of Graphics* approach.\n",
    "- Plots are constructed by layering components (`ggplot`, `aes`, `geom_histogram`).\n",
    "- Requires fewer explicit function calls for titles and labels but uses a more complex syntax."
   ]
  },
  {
   "cell_type": "markdown",
   "metadata": {},
   "source": [
    "------------------------------------------------------\n",
    "# SLIDES\n",
    "------------------------------------------------------"
   ]
  }
 ],
 "metadata": {
  "kernelspec": {
   "display_name": "Python 3 (ipykernel)",
   "language": "python",
   "name": "python3"
  },
  "language_info": {
   "codemirror_mode": {
    "name": "ipython",
    "version": 3
   },
   "file_extension": ".py",
   "mimetype": "text/x-python",
   "name": "python",
   "nbconvert_exporter": "python",
   "pygments_lexer": "ipython3",
   "version": "3.10.7"
  }
 },
 "nbformat": 4,
 "nbformat_minor": 4
}
