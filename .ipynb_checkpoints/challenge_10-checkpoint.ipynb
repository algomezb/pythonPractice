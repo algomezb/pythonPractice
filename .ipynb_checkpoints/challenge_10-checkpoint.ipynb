{
 "cells": [
  {
   "cell_type": "markdown",
   "metadata": {},
   "source": [
    "# Counting"
   ]
  },
  {
   "cell_type": "code",
   "execution_count": 1,
   "metadata": {},
   "outputs": [],
   "source": [
    "import pandas as pd\n",
    "# Note: Update the relative path to the data\n",
    "my_data = pd.read_csv(\"tmdb-movies.csv\")"
   ]
  },
  {
   "cell_type": "markdown",
   "metadata": {
    "vscode": {
     "languageId": "plaintext"
    }
   },
   "source": [
    "Count the number of missing values per column."
   ]
  },
  {
   "cell_type": "code",
   "execution_count": 5,
   "metadata": {},
   "outputs": [
    {
     "data": {
      "text/plain": [
       "[0         24452\n",
       " 1         15788\n",
       " 2          1673\n",
       " 3         39890\n",
       " 4         11773\n",
       "           ...  \n",
       " 10820    273248\n",
       " 10821    371758\n",
       " 10822    321640\n",
       " 10823    373977\n",
       " 10824    340968\n",
       " Name: id, Length: 10825, dtype: int64]"
      ]
     },
     "execution_count": 5,
     "metadata": {},
     "output_type": "execute_result"
    }
   ],
   "source": [
    "[my_data.id]"
   ]
  },
  {
   "cell_type": "code",
   "execution_count": 25,
   "metadata": {},
   "outputs": [
    {
     "data": {
      "text/plain": [
       "id                         0\n",
       "imdb_id                   10\n",
       "popularity                 0\n",
       "budget                     0\n",
       "revenue                    0\n",
       "original_title             0\n",
       "cast                      76\n",
       "homepage                7902\n",
       "director                  44\n",
       "tagline                 2813\n",
       "keywords                1487\n",
       "overview                   4\n",
       "runtime                    0\n",
       "genres                    23\n",
       "production_companies    1021\n",
       "release_date               0\n",
       "vote_count                 0\n",
       "vote_average               0\n",
       "release_year               0\n",
       "budget_adj                 0\n",
       "revenue_adj                0\n",
       "dtype: int64"
      ]
     },
     "execution_count": 25,
     "metadata": {},
     "output_type": "execute_result"
    }
   ],
   "source": [
    "my_data.isna().sum()"
   ]
  },
  {
   "cell_type": "code",
   "execution_count": 26,
   "metadata": {},
   "outputs": [
    {
     "name": "stdout",
     "output_type": "stream",
     "text": [
      "id 0\n",
      "imdb_id 10\n",
      "popularity 0\n",
      "budget 0\n",
      "revenue 0\n",
      "original_title 0\n",
      "cast 76\n",
      "homepage 7902\n",
      "director 44\n",
      "tagline 2813\n",
      "keywords 1487\n",
      "overview 4\n",
      "runtime 0\n",
      "genres 23\n",
      "production_companies 1021\n",
      "release_date 0\n",
      "vote_count 0\n",
      "vote_average 0\n",
      "release_year 0\n",
      "budget_adj 0\n",
      "revenue_adj 0\n"
     ]
    }
   ],
   "source": [
    "for c in my_data.columns:\n",
    "    print(c, len(my_data[my_data[c].isna()]))"
   ]
  },
  {
   "cell_type": "code",
   "execution_count": 38,
   "metadata": {},
   "outputs": [
    {
     "name": "stdout",
     "output_type": "stream",
     "text": [
      "id 0\n",
      "imdb_id 10\n",
      "popularity 0\n",
      "budget 0\n",
      "revenue 0\n",
      "original_title 0\n",
      "cast 76\n",
      "homepage 7902\n",
      "director 44\n",
      "tagline 2813\n",
      "keywords 1487\n",
      "overview 4\n",
      "runtime 0\n",
      "genres 23\n",
      "production_companies 1021\n",
      "release_date 0\n",
      "vote_count 0\n",
      "vote_average 0\n",
      "release_year 0\n",
      "budget_adj 0\n",
      "revenue_adj 0\n"
     ]
    }
   ],
   "source": [
    "for c in my_data.columns:\n",
    "    print(c, len(my_data[my_data[c].isna()]))"
   ]
  }
 ],
 "metadata": {
  "kernelspec": {
   "display_name": "Python 3 (ipykernel)",
   "language": "python",
   "name": "python3"
  },
  "language_info": {
   "codemirror_mode": {
    "name": "ipython",
    "version": 3
   },
   "file_extension": ".py",
   "mimetype": "text/x-python",
   "name": "python",
   "nbconvert_exporter": "python",
   "pygments_lexer": "ipython3",
   "version": "3.10.7"
  }
 },
 "nbformat": 4,
 "nbformat_minor": 4
}
